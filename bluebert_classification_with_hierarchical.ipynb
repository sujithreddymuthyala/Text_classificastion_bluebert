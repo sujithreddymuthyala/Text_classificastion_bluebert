{
  "cells": [
    {
      "cell_type": "code",
      "execution_count": null,
      "metadata": {
        "colab": {
          "base_uri": "https://localhost:8080/"
        },
        "id": "gW-yUk_idh0e",
        "outputId": "7f805186-feea-48e3-9b12-ef3d10cd7b9c"
      },
      "outputs": [
        {
          "output_type": "stream",
          "name": "stdout",
          "text": [
            "Drive already mounted at /content/drive; to attempt to forcibly remount, call drive.mount(\"/content/drive\", force_remount=True).\n"
          ]
        }
      ],
      "source": [
        "from google.colab import drive\n",
        "drive.mount('/content/drive')"
      ]
    },
    {
      "cell_type": "code",
      "execution_count": null,
      "metadata": {
        "colab": {
          "base_uri": "https://localhost:8080/"
        },
        "id": "GDXYnXuIdhz1",
        "outputId": "d099f5fa-9d5d-42e2-b229-5ca1b9e44e78"
      },
      "outputs": [
        {
          "output_type": "stream",
          "name": "stdout",
          "text": [
            "Looking in indexes: https://pypi.org/simple, https://us-python.pkg.dev/colab-wheels/public/simple/\n",
            "Collecting transformers\n",
            "  Downloading transformers-4.29.2-py3-none-any.whl (7.1 MB)\n",
            "\u001b[2K     \u001b[90m━━━━━━━━━━━━━━━━━━━━━━━━━━━━━━━━━━━━━━━━\u001b[0m \u001b[32m7.1/7.1 MB\u001b[0m \u001b[31m59.0 MB/s\u001b[0m eta \u001b[36m0:00:00\u001b[0m\n",
            "\u001b[?25hRequirement already satisfied: filelock in /usr/local/lib/python3.10/dist-packages (from transformers) (3.12.0)\n",
            "Collecting huggingface-hub<1.0,>=0.14.1 (from transformers)\n",
            "  Downloading huggingface_hub-0.14.1-py3-none-any.whl (224 kB)\n",
            "\u001b[2K     \u001b[90m━━━━━━━━━━━━━━━━━━━━━━━━━━━━━━━━━━━━━━\u001b[0m \u001b[32m224.5/224.5 kB\u001b[0m \u001b[31m19.8 MB/s\u001b[0m eta \u001b[36m0:00:00\u001b[0m\n",
            "\u001b[?25hRequirement already satisfied: numpy>=1.17 in /usr/local/lib/python3.10/dist-packages (from transformers) (1.22.4)\n",
            "Requirement already satisfied: packaging>=20.0 in /usr/local/lib/python3.10/dist-packages (from transformers) (23.1)\n",
            "Requirement already satisfied: pyyaml>=5.1 in /usr/local/lib/python3.10/dist-packages (from transformers) (6.0)\n",
            "Requirement already satisfied: regex!=2019.12.17 in /usr/local/lib/python3.10/dist-packages (from transformers) (2022.10.31)\n",
            "Requirement already satisfied: requests in /usr/local/lib/python3.10/dist-packages (from transformers) (2.27.1)\n",
            "Collecting tokenizers!=0.11.3,<0.14,>=0.11.1 (from transformers)\n",
            "  Downloading tokenizers-0.13.3-cp310-cp310-manylinux_2_17_x86_64.manylinux2014_x86_64.whl (7.8 MB)\n",
            "\u001b[2K     \u001b[90m━━━━━━━━━━━━━━━━━━━━━━━━━━━━━━━━━━━━━━━━\u001b[0m \u001b[32m7.8/7.8 MB\u001b[0m \u001b[31m89.3 MB/s\u001b[0m eta \u001b[36m0:00:00\u001b[0m\n",
            "\u001b[?25hRequirement already satisfied: tqdm>=4.27 in /usr/local/lib/python3.10/dist-packages (from transformers) (4.65.0)\n",
            "Requirement already satisfied: fsspec in /usr/local/lib/python3.10/dist-packages (from huggingface-hub<1.0,>=0.14.1->transformers) (2023.4.0)\n",
            "Requirement already satisfied: typing-extensions>=3.7.4.3 in /usr/local/lib/python3.10/dist-packages (from huggingface-hub<1.0,>=0.14.1->transformers) (4.5.0)\n",
            "Requirement already satisfied: urllib3<1.27,>=1.21.1 in /usr/local/lib/python3.10/dist-packages (from requests->transformers) (1.26.15)\n",
            "Requirement already satisfied: certifi>=2017.4.17 in /usr/local/lib/python3.10/dist-packages (from requests->transformers) (2022.12.7)\n",
            "Requirement already satisfied: charset-normalizer~=2.0.0 in /usr/local/lib/python3.10/dist-packages (from requests->transformers) (2.0.12)\n",
            "Requirement already satisfied: idna<4,>=2.5 in /usr/local/lib/python3.10/dist-packages (from requests->transformers) (3.4)\n",
            "Installing collected packages: tokenizers, huggingface-hub, transformers\n",
            "Successfully installed huggingface-hub-0.14.1 tokenizers-0.13.3 transformers-4.29.2\n",
            "Looking in indexes: https://pypi.org/simple, https://us-python.pkg.dev/colab-wheels/public/simple/\n",
            "Collecting keras_preprocessing\n",
            "  Downloading Keras_Preprocessing-1.1.2-py2.py3-none-any.whl (42 kB)\n",
            "\u001b[2K     \u001b[90m━━━━━━━━━━━━━━━━━━━━━━━━━━━━━━━━━━━━━━━━\u001b[0m \u001b[32m42.6/42.6 kB\u001b[0m \u001b[31m2.8 MB/s\u001b[0m eta \u001b[36m0:00:00\u001b[0m\n",
            "\u001b[?25hRequirement already satisfied: numpy>=1.9.1 in /usr/local/lib/python3.10/dist-packages (from keras_preprocessing) (1.22.4)\n",
            "Requirement already satisfied: six>=1.9.0 in /usr/local/lib/python3.10/dist-packages (from keras_preprocessing) (1.16.0)\n",
            "Installing collected packages: keras_preprocessing\n",
            "Successfully installed keras_preprocessing-1.1.2\n"
          ]
        }
      ],
      "source": [
        "!pip install transformers\n",
        "!pip install keras_preprocessing"
      ]
    },
    {
      "cell_type": "code",
      "execution_count": null,
      "metadata": {
        "colab": {
          "base_uri": "https://localhost:8080/"
        },
        "id": "mB7N4taWdh0b",
        "outputId": "5d91d1ab-3b2d-492f-b4b2-61323c8c0217"
      },
      "outputs": [
        {
          "output_type": "stream",
          "name": "stdout",
          "text": [
            "Looking in indexes: https://pypi.org/simple, https://us-python.pkg.dev/colab-wheels/public/simple/\n",
            "Requirement already satisfied: pandas in /usr/local/lib/python3.10/dist-packages (1.5.3)\n",
            "Requirement already satisfied: python-dateutil>=2.8.1 in /usr/local/lib/python3.10/dist-packages (from pandas) (2.8.2)\n",
            "Requirement already satisfied: pytz>=2020.1 in /usr/local/lib/python3.10/dist-packages (from pandas) (2022.7.1)\n",
            "Requirement already satisfied: numpy>=1.21.0 in /usr/local/lib/python3.10/dist-packages (from pandas) (1.22.4)\n",
            "Requirement already satisfied: six>=1.5 in /usr/local/lib/python3.10/dist-packages (from python-dateutil>=2.8.1->pandas) (1.16.0)\n"
          ]
        }
      ],
      "source": [
        "!pip install pandas"
      ]
    },
    {
      "cell_type": "code",
      "execution_count": null,
      "metadata": {
        "colab": {
          "base_uri": "https://localhost:8080/"
        },
        "id": "W1pFZ0Abdh0d",
        "outputId": "32cebcd5-cef3-433b-d004-9e89dc708411"
      },
      "outputs": [
        {
          "output_type": "stream",
          "name": "stdout",
          "text": [
            "Looking in indexes: https://pypi.org/simple, https://us-python.pkg.dev/colab-wheels/public/simple/\n",
            "Requirement already satisfied: nltk in /usr/local/lib/python3.10/dist-packages (3.8.1)\n",
            "Requirement already satisfied: click in /usr/local/lib/python3.10/dist-packages (from nltk) (8.1.3)\n",
            "Requirement already satisfied: joblib in /usr/local/lib/python3.10/dist-packages (from nltk) (1.2.0)\n",
            "Requirement already satisfied: regex>=2021.8.3 in /usr/local/lib/python3.10/dist-packages (from nltk) (2022.10.31)\n",
            "Requirement already satisfied: tqdm in /usr/local/lib/python3.10/dist-packages (from nltk) (4.65.0)\n"
          ]
        }
      ],
      "source": [
        "!pip install nltk"
      ]
    },
    {
      "cell_type": "code",
      "execution_count": null,
      "metadata": {
        "id": "LHVaW_R-dh0f"
      },
      "outputs": [],
      "source": [
        "import re\n",
        "import warnings\n",
        "from typing import Iterator, List, Tuple\n",
        "\n",
        "from nltk.tokenize.api import TokenizerI\n",
        "from nltk.tokenize.destructive import MacIntyreContractions\n",
        "from nltk.tokenize.util import align_tokens\n",
        "\n",
        "from nltk.tokenize import TreebankWordTokenizer\n",
        "\n",
        "from transformers import AutoModel\n",
        "from transformers import BertTokenizer, TFBertModel, BertConfig\n",
        "import torch"
      ]
    },
    {
      "cell_type": "code",
      "execution_count": null,
      "metadata": {
        "colab": {
          "base_uri": "https://localhost:8080/"
        },
        "id": "tY7uCU9sdh0h",
        "outputId": "c478a55e-0848-4bf4-aa63-5074a17a42e7"
      },
      "outputs": [
        {
          "output_type": "stream",
          "name": "stderr",
          "text": [
            "[nltk_data] Downloading package stopwords to /root/nltk_data...\n",
            "[nltk_data]   Unzipping corpora/stopwords.zip.\n"
          ]
        }
      ],
      "source": [
        "import pandas as pd\n",
        "import tensorflow as tf\n",
        "import nltk\n",
        "\n",
        "nltk.download('stopwords')\n",
        "\n",
        "# Commented out IPython magic to ensure Python compatibility.\n",
        "import pandas as pd\n",
        "import numpy as np\n",
        "import random\n",
        "import warnings\n",
        "import time\n",
        "import datetime\n",
        "import re\n",
        "import string\n",
        "import itertools\n",
        "import pickle\n",
        "import joblib\n",
        "import nltk\n",
        "import csv\n",
        "\n",
        "from nltk.corpus import stopwords, wordnet\n",
        "stop = set(stopwords.words('english'))\n",
        "from wordcloud import WordCloud, STOPWORDS\n",
        "from nltk.stem import WordNetLemmatizer\n",
        "from nltk.tokenize import word_tokenize\n",
        "from nltk.probability import FreqDist\n",
        "from collections import Counter, defaultdict\n",
        "\n",
        "import tensorflow as tf\n",
        "import keras\n",
        "import keras.backend as K\n",
        "from keras.preprocessing.text import Tokenizer\n",
        "from keras_preprocessing.sequence import pad_sequences\n",
        "from keras.layers import Input, Concatenate, Conv2D, Flatten, Dense, Embedding, LSTM\n",
        "from keras.models import Model\n",
        "from keras.utils import np_utils\n",
        "\n",
        "from sklearn.model_selection import train_test_split\n",
        "from sklearn.metrics import roc_auc_score\n",
        "\n",
        "from keras.regularizers import l2\n",
        "from keras.models import Sequential\n",
        "from keras.optimizers import Adam\n",
        "from keras.layers import Conv2D, ZeroPadding2D, Activation, Input, concatenate\n",
        "from keras.models import Model\n",
        "from  tensorflow.keras.layers import BatchNormalization\n",
        "from keras.layers.pooling import MaxPooling2D\n",
        "from tensorflow.keras.layers import Concatenate\n",
        "from keras.layers.core import Lambda, Flatten, Dense\n",
        "from keras.initializers import glorot_uniform\n",
        "from keras.layers import Input, Dense, Flatten, GlobalMaxPool2D, GlobalAvgPool2D, Concatenate, Multiply, Dropout, Subtract, Add, Conv2D\n",
        "\n",
        "from sklearn.manifold import TSNE\n",
        "import matplotlib.pyplot as plt\n",
        "import seaborn as sns\n",
        "# %matplotlib inline\n",
        "import pandas as pd"
      ]
    },
    {
      "cell_type": "code",
      "execution_count": null,
      "metadata": {
        "colab": {
          "base_uri": "https://localhost:8080/",
          "height": 185,
          "referenced_widgets": [
            "3beba7f184594decb2fe4276dc6589b8",
            "3f58a651278d4c239b79ce326c939295",
            "7fcab6676261488b9f13c97989eaf485",
            "6b027c3a70594103a384a44d79b9d11a",
            "2f04e3f6ae234e56a41bb1e0b80cd322",
            "9bef8ecdc2314217b88dbb6a217d73f1",
            "ca48f80550f44fb88edc6749eb2c0c59",
            "fc9de7cbd58b438c8130b5dd3e92c4c0",
            "5d069b38784a439e94918b3efb7d6db2",
            "e279331898694f9294ed16b52a8d6550",
            "83d71d7e2084473b9c96c66868fb74c9",
            "5a41502241874473a11d700610b3e4ff",
            "b0a28a6fb45d45e0a30d0580c446609c",
            "22f88fd5413d4f4ebef351d0b936e896",
            "71916a4a71d248cdb8c35574ef9ab815",
            "4296135eeea54aa18169dbb03b273ca0",
            "70941589c3f1496b96d153c889775e70",
            "479592fe09ba434291ee6d43d7a1d0a6",
            "c8068ff539f7405d95ac34d9ee53ffa8",
            "d9e67160342b49ec92b362dfa74810dd",
            "e21eca73056b4debbe3970a4ef27f184",
            "aa984431f28d48a3b122bcea0589e0d9",
            "6c3ed70a02b8494d9d58b9e814951b4b",
            "fb0ac36d4804411f9a5fc5777c190b9a",
            "1da36ba77b7445d9ab8668d2d307498f",
            "621ff991f7614062b3543ff3c74d43d5",
            "aa173bf082ef42889750df1521c08863",
            "6487e42bb9644410943e029d5c268bf1",
            "16dea69dc8364b559aa3d31a4bede6c1",
            "d823c998af6c43f58a034c1d106c9027",
            "831ea8b7b71143b4a482e9810c57bb15",
            "d23492ac377d42fc8cb4bacfe79ea4e5",
            "ddcfda4c53a847d2baa8eab9923d7fd4"
          ]
        },
        "id": "PMGZsNWxdh0j",
        "outputId": "705f8c73-6853-4178-a356-d64826934d52"
      },
      "outputs": [
        {
          "output_type": "display_data",
          "data": {
            "text/plain": [
              "Downloading (…)solve/main/vocab.txt:   0%|          | 0.00/232k [00:00<?, ?B/s]"
            ],
            "application/vnd.jupyter.widget-view+json": {
              "version_major": 2,
              "version_minor": 0,
              "model_id": "3beba7f184594decb2fe4276dc6589b8"
            }
          },
          "metadata": {}
        },
        {
          "output_type": "display_data",
          "data": {
            "text/plain": [
              "Downloading (…)lve/main/config.json:   0%|          | 0.00/313 [00:00<?, ?B/s]"
            ],
            "application/vnd.jupyter.widget-view+json": {
              "version_major": 2,
              "version_minor": 0,
              "model_id": "5a41502241874473a11d700610b3e4ff"
            }
          },
          "metadata": {}
        },
        {
          "output_type": "display_data",
          "data": {
            "text/plain": [
              "Downloading pytorch_model.bin:   0%|          | 0.00/441M [00:00<?, ?B/s]"
            ],
            "application/vnd.jupyter.widget-view+json": {
              "version_major": 2,
              "version_minor": 0,
              "model_id": "6c3ed70a02b8494d9d58b9e814951b4b"
            }
          },
          "metadata": {}
        },
        {
          "output_type": "stream",
          "name": "stderr",
          "text": [
            "Some weights of the model checkpoint at bionlp/bluebert_pubmed_uncased_L-12_H-768_A-12 were not used when initializing BertModel: ['cls.predictions.transform.LayerNorm.bias', 'cls.seq_relationship.weight', 'cls.seq_relationship.bias', 'cls.predictions.decoder.weight', 'cls.predictions.bias', 'cls.predictions.transform.LayerNorm.weight', 'cls.predictions.transform.dense.weight', 'cls.predictions.decoder.bias', 'cls.predictions.transform.dense.bias']\n",
            "- This IS expected if you are initializing BertModel from the checkpoint of a model trained on another task or with another architecture (e.g. initializing a BertForSequenceClassification model from a BertForPreTraining model).\n",
            "- This IS NOT expected if you are initializing BertModel from the checkpoint of a model that you expect to be exactly identical (initializing a BertForSequenceClassification model from a BertForSequenceClassification model).\n"
          ]
        }
      ],
      "source": [
        "bbert_tokenizer = BertTokenizer.from_pretrained(\"bionlp/bluebert_pubmed_uncased_L-12_H-768_A-12\")\n",
        "model = AutoModel.from_pretrained(\"bionlp/bluebert_pubmed_uncased_L-12_H-768_A-12\")"
      ]
    },
    {
      "cell_type": "code",
      "execution_count": null,
      "metadata": {
        "id": "-MzceSYodh0k"
      },
      "outputs": [],
      "source": [
        "def blubertpreprocess(sent):\n",
        "  value=str(sent)\n",
        "  value = value.lower()\n",
        "  value = re.sub(r'[\\r\\n]+', ' ', value)\n",
        "  value = re.sub(r'[^\\x00-\\x7F]+', ' ', value)\n",
        "\n",
        "  tokenized = TreebankWordTokenizer().tokenize(value)\n",
        "  sentence = ' '.join(tokenized)\n",
        "  sentence = re.sub(r\"\\s's\\b\", \"'s\", sentence)\n",
        "  input_ids = torch.tensor(bbert_tokenizer.encode(sentence,max_length=512,pad_to_max_length = True,add_special_tokens = True)).unsqueeze(0)\n",
        "  return input_ids"
      ]
    },
    {
      "cell_type": "code",
      "execution_count": null,
      "metadata": {
        "id": "kFxUrxvadh0l"
      },
      "outputs": [],
      "source": [
        "trainclasses=['A24',\n",
        "'A0201',\n",
        "'A0409',\n",
        "'A1801',\n",
        "'A0205',\n",
        "'A051104',\n",
        "'A020501',\n",
        "'A020602',\n",
        "'A0406',\n",
        "'A0401',\n",
        "'A0504',\n",
        "'A18',\n",
        "'A150101',\n",
        "'A05',\n",
        "'A02',\n",
        "'A050301',\n",
        "'A0404',\n",
        "'A2201',\n",
        "'A0407',\n",
        "'A0204',\n",
        "'A050702',\n",
        "'A14',\n",
        "'A0505',\n",
        "'A0801',\n",
        "'A1104',\n",
        "'A0902',\n",
        "'A141401',\n",
        "'A09',\n",
        "'A08',\n",
        "'A1301']"
      ]
    },
    {
      "cell_type": "code",
      "execution_count": null,
      "metadata": {
        "id": "91DVxHwWdh0m"
      },
      "outputs": [],
      "source": [
        "hirexp_lab=[]\n",
        "for i in trainclasses:\n",
        "  hirexp_lab.append(i)\n",
        "\n",
        "hirexp_label=[]\n",
        "for i in trainclasses:\n",
        "  code=str(i)\n",
        "  if len(code)==3:\n",
        "    hirexp_label.append(code)\n",
        "  elif len(code)==5:\n",
        "    hirexp_label.append(code[:3])\n",
        "    hirexp_label.append(code[:5])\n",
        "  else:\n",
        "    hirexp_label.append(code[:3])\n",
        "    hirexp_label.append(code[:5])\n",
        "    hirexp_label.append(code)\n",
        "\n",
        "for i in range(len(hirexp_label)):\n",
        "  hirexp_label[i]=hirexp_label[i].replace(' ','')"
      ]
    },
    {
      "cell_type": "code",
      "execution_count": null,
      "metadata": {
        "id": "_G_ZvMCUdh0n"
      },
      "outputs": [],
      "source": [
        "hirexp_label=list(set(hirexp_label))"
      ]
    },
    {
      "cell_type": "code",
      "execution_count": null,
      "metadata": {
        "colab": {
          "base_uri": "https://localhost:8080/"
        },
        "id": "8nl8Cj9edh0o",
        "outputId": "148c7ca2-7dc8-45d3-c567-e32a90d30581"
      },
      "outputs": [
        {
          "output_type": "stream",
          "name": "stdout",
          "text": [
            "Looking in indexes: https://pypi.org/simple, https://us-python.pkg.dev/colab-wheels/public/simple/\n",
            "Requirement already satisfied: pandas in /usr/local/lib/python3.10/dist-packages (1.5.3)\n",
            "Requirement already satisfied: python-dateutil>=2.8.1 in /usr/local/lib/python3.10/dist-packages (from pandas) (2.8.2)\n",
            "Requirement already satisfied: pytz>=2020.1 in /usr/local/lib/python3.10/dist-packages (from pandas) (2022.7.1)\n",
            "Requirement already satisfied: numpy>=1.21.0 in /usr/local/lib/python3.10/dist-packages (from pandas) (1.22.4)\n",
            "Requirement already satisfied: six>=1.5 in /usr/local/lib/python3.10/dist-packages (from python-dateutil>=2.8.1->pandas) (1.16.0)\n"
          ]
        }
      ],
      "source": [
        "!pip3 install pandas"
      ]
    },
    {
      "cell_type": "code",
      "execution_count": null,
      "metadata": {
        "colab": {
          "base_uri": "https://localhost:8080/"
        },
        "id": "NBDbUQB3dh0o",
        "outputId": "69053a1b-b4aa-4bdc-a93d-6a247a223080"
      },
      "outputs": [
        {
          "output_type": "stream",
          "name": "stdout",
          "text": [
            "Looking in indexes: https://pypi.org/simple, https://us-python.pkg.dev/colab-wheels/public/simple/\n",
            "Requirement already satisfied: numpy in /usr/local/lib/python3.10/dist-packages (1.22.4)\n"
          ]
        }
      ],
      "source": [
        "!pip3 install numpy"
      ]
    },
    {
      "cell_type": "code",
      "execution_count": null,
      "metadata": {
        "id": "kzfACvTQdh0p"
      },
      "outputs": [],
      "source": [
        "import pandas as pd\n",
        "testdf=pd.read_csv('/content/drive/MyDrive/nlpproject/updatedfinalmaster.csv')"
      ]
    },
    {
      "cell_type": "code",
      "execution_count": null,
      "metadata": {
        "id": "KZ9JFgpCDini"
      },
      "outputs": [],
      "source": [
        "testdf['comp']=testdf['Complaint_Description']\n",
        "testdf['codes']=testdf['IMDRF Annex A']"
      ]
    },
    {
      "cell_type": "code",
      "execution_count": null,
      "metadata": {
        "id": "23hovDWo6cPs"
      },
      "outputs": [],
      "source": []
    },
    {
      "cell_type": "code",
      "execution_count": null,
      "metadata": {
        "colab": {
          "base_uri": "https://localhost:8080/",
          "height": 441
        },
        "id": "35FCah0Zdh0p",
        "outputId": "fad660c6-3c4d-4641-b312-e4e0d826e109"
      },
      "outputs": [
        {
          "output_type": "execute_result",
          "data": {
            "text/plain": [
              "   Unnamed: 0.6                              Complaint_Description  \\\n",
              "0             0  Consumer states he couldn't see as well close ...   \n",
              "1             1  On September 3, 2021, Mr. Shi called in and sa...   \n",
              "2             2  Distributor calls to respond to consumers the ...   \n",
              "3             3  The compressor has a problem in the I/A, when ...   \n",
              "4             4  Customer stated that he have bought our produc...   \n",
              "\n",
              "  IMDRF Annex A IMDRF Annex E IMDRF Annex F  Unnamed: 0.5  Unnamed: 0.4  \\\n",
              "0           A24       E083901           F26           NaN           NaN   \n",
              "1           A24         E0845           F26           NaN           NaN   \n",
              "2         A0204         E2403           F26           NaN           NaN   \n",
              "3           A14         E2403           F26           NaN           NaN   \n",
              "4           A24         E0845           F11           NaN           NaN   \n",
              "\n",
              "   Unnamed: 0.3  Unnamed: 0.2  Unnamed: 0.1  Unnamed: 0 IMDRF Annex B  \\\n",
              "0           NaN           NaN           NaN         NaN           NaN   \n",
              "1           NaN           NaN           NaN         NaN           NaN   \n",
              "2           NaN           NaN           NaN         NaN           NaN   \n",
              "3           NaN           NaN           NaN         NaN           NaN   \n",
              "4           NaN           NaN           NaN         NaN           NaN   \n",
              "\n",
              "  IMDRF Annex C IMDRF Annex D IMDRF Annex G Unnamed: 8  \\\n",
              "0           NaN           NaN           NaN        NaN   \n",
              "1           NaN           NaN           NaN        NaN   \n",
              "2           NaN           NaN           NaN        NaN   \n",
              "3           NaN           NaN           NaN        NaN   \n",
              "4           NaN           NaN           NaN        NaN   \n",
              "\n",
              "                                                comp  codes  \n",
              "0  Consumer states he couldn't see as well close ...    A24  \n",
              "1  On September 3, 2021, Mr. Shi called in and sa...    A24  \n",
              "2  Distributor calls to respond to consumers the ...  A0204  \n",
              "3  The compressor has a problem in the I/A, when ...    A14  \n",
              "4  Customer stated that he have bought our produc...    A24  "
            ],
            "text/html": [
              "\n",
              "  <div id=\"df-e6a7b486-fd79-4737-9beb-b4676b47507f\">\n",
              "    <div class=\"colab-df-container\">\n",
              "      <div>\n",
              "<style scoped>\n",
              "    .dataframe tbody tr th:only-of-type {\n",
              "        vertical-align: middle;\n",
              "    }\n",
              "\n",
              "    .dataframe tbody tr th {\n",
              "        vertical-align: top;\n",
              "    }\n",
              "\n",
              "    .dataframe thead th {\n",
              "        text-align: right;\n",
              "    }\n",
              "</style>\n",
              "<table border=\"1\" class=\"dataframe\">\n",
              "  <thead>\n",
              "    <tr style=\"text-align: right;\">\n",
              "      <th></th>\n",
              "      <th>Unnamed: 0.6</th>\n",
              "      <th>Complaint_Description</th>\n",
              "      <th>IMDRF Annex A</th>\n",
              "      <th>IMDRF Annex E</th>\n",
              "      <th>IMDRF Annex F</th>\n",
              "      <th>Unnamed: 0.5</th>\n",
              "      <th>Unnamed: 0.4</th>\n",
              "      <th>Unnamed: 0.3</th>\n",
              "      <th>Unnamed: 0.2</th>\n",
              "      <th>Unnamed: 0.1</th>\n",
              "      <th>Unnamed: 0</th>\n",
              "      <th>IMDRF Annex B</th>\n",
              "      <th>IMDRF Annex C</th>\n",
              "      <th>IMDRF Annex D</th>\n",
              "      <th>IMDRF Annex G</th>\n",
              "      <th>Unnamed: 8</th>\n",
              "      <th>comp</th>\n",
              "      <th>codes</th>\n",
              "    </tr>\n",
              "  </thead>\n",
              "  <tbody>\n",
              "    <tr>\n",
              "      <th>0</th>\n",
              "      <td>0</td>\n",
              "      <td>Consumer states he couldn't see as well close ...</td>\n",
              "      <td>A24</td>\n",
              "      <td>E083901</td>\n",
              "      <td>F26</td>\n",
              "      <td>NaN</td>\n",
              "      <td>NaN</td>\n",
              "      <td>NaN</td>\n",
              "      <td>NaN</td>\n",
              "      <td>NaN</td>\n",
              "      <td>NaN</td>\n",
              "      <td>NaN</td>\n",
              "      <td>NaN</td>\n",
              "      <td>NaN</td>\n",
              "      <td>NaN</td>\n",
              "      <td>NaN</td>\n",
              "      <td>Consumer states he couldn't see as well close ...</td>\n",
              "      <td>A24</td>\n",
              "    </tr>\n",
              "    <tr>\n",
              "      <th>1</th>\n",
              "      <td>1</td>\n",
              "      <td>On September 3, 2021, Mr. Shi called in and sa...</td>\n",
              "      <td>A24</td>\n",
              "      <td>E0845</td>\n",
              "      <td>F26</td>\n",
              "      <td>NaN</td>\n",
              "      <td>NaN</td>\n",
              "      <td>NaN</td>\n",
              "      <td>NaN</td>\n",
              "      <td>NaN</td>\n",
              "      <td>NaN</td>\n",
              "      <td>NaN</td>\n",
              "      <td>NaN</td>\n",
              "      <td>NaN</td>\n",
              "      <td>NaN</td>\n",
              "      <td>NaN</td>\n",
              "      <td>On September 3, 2021, Mr. Shi called in and sa...</td>\n",
              "      <td>A24</td>\n",
              "    </tr>\n",
              "    <tr>\n",
              "      <th>2</th>\n",
              "      <td>2</td>\n",
              "      <td>Distributor calls to respond to consumers the ...</td>\n",
              "      <td>A0204</td>\n",
              "      <td>E2403</td>\n",
              "      <td>F26</td>\n",
              "      <td>NaN</td>\n",
              "      <td>NaN</td>\n",
              "      <td>NaN</td>\n",
              "      <td>NaN</td>\n",
              "      <td>NaN</td>\n",
              "      <td>NaN</td>\n",
              "      <td>NaN</td>\n",
              "      <td>NaN</td>\n",
              "      <td>NaN</td>\n",
              "      <td>NaN</td>\n",
              "      <td>NaN</td>\n",
              "      <td>Distributor calls to respond to consumers the ...</td>\n",
              "      <td>A0204</td>\n",
              "    </tr>\n",
              "    <tr>\n",
              "      <th>3</th>\n",
              "      <td>3</td>\n",
              "      <td>The compressor has a problem in the I/A, when ...</td>\n",
              "      <td>A14</td>\n",
              "      <td>E2403</td>\n",
              "      <td>F26</td>\n",
              "      <td>NaN</td>\n",
              "      <td>NaN</td>\n",
              "      <td>NaN</td>\n",
              "      <td>NaN</td>\n",
              "      <td>NaN</td>\n",
              "      <td>NaN</td>\n",
              "      <td>NaN</td>\n",
              "      <td>NaN</td>\n",
              "      <td>NaN</td>\n",
              "      <td>NaN</td>\n",
              "      <td>NaN</td>\n",
              "      <td>The compressor has a problem in the I/A, when ...</td>\n",
              "      <td>A14</td>\n",
              "    </tr>\n",
              "    <tr>\n",
              "      <th>4</th>\n",
              "      <td>4</td>\n",
              "      <td>Customer stated that he have bought our produc...</td>\n",
              "      <td>A24</td>\n",
              "      <td>E0845</td>\n",
              "      <td>F11</td>\n",
              "      <td>NaN</td>\n",
              "      <td>NaN</td>\n",
              "      <td>NaN</td>\n",
              "      <td>NaN</td>\n",
              "      <td>NaN</td>\n",
              "      <td>NaN</td>\n",
              "      <td>NaN</td>\n",
              "      <td>NaN</td>\n",
              "      <td>NaN</td>\n",
              "      <td>NaN</td>\n",
              "      <td>NaN</td>\n",
              "      <td>Customer stated that he have bought our produc...</td>\n",
              "      <td>A24</td>\n",
              "    </tr>\n",
              "  </tbody>\n",
              "</table>\n",
              "</div>\n",
              "      <button class=\"colab-df-convert\" onclick=\"convertToInteractive('df-e6a7b486-fd79-4737-9beb-b4676b47507f')\"\n",
              "              title=\"Convert this dataframe to an interactive table.\"\n",
              "              style=\"display:none;\">\n",
              "        \n",
              "  <svg xmlns=\"http://www.w3.org/2000/svg\" height=\"24px\"viewBox=\"0 0 24 24\"\n",
              "       width=\"24px\">\n",
              "    <path d=\"M0 0h24v24H0V0z\" fill=\"none\"/>\n",
              "    <path d=\"M18.56 5.44l.94 2.06.94-2.06 2.06-.94-2.06-.94-.94-2.06-.94 2.06-2.06.94zm-11 1L8.5 8.5l.94-2.06 2.06-.94-2.06-.94L8.5 2.5l-.94 2.06-2.06.94zm10 10l.94 2.06.94-2.06 2.06-.94-2.06-.94-.94-2.06-.94 2.06-2.06.94z\"/><path d=\"M17.41 7.96l-1.37-1.37c-.4-.4-.92-.59-1.43-.59-.52 0-1.04.2-1.43.59L10.3 9.45l-7.72 7.72c-.78.78-.78 2.05 0 2.83L4 21.41c.39.39.9.59 1.41.59.51 0 1.02-.2 1.41-.59l7.78-7.78 2.81-2.81c.8-.78.8-2.07 0-2.86zM5.41 20L4 18.59l7.72-7.72 1.47 1.35L5.41 20z\"/>\n",
              "  </svg>\n",
              "      </button>\n",
              "      \n",
              "  <style>\n",
              "    .colab-df-container {\n",
              "      display:flex;\n",
              "      flex-wrap:wrap;\n",
              "      gap: 12px;\n",
              "    }\n",
              "\n",
              "    .colab-df-convert {\n",
              "      background-color: #E8F0FE;\n",
              "      border: none;\n",
              "      border-radius: 50%;\n",
              "      cursor: pointer;\n",
              "      display: none;\n",
              "      fill: #1967D2;\n",
              "      height: 32px;\n",
              "      padding: 0 0 0 0;\n",
              "      width: 32px;\n",
              "    }\n",
              "\n",
              "    .colab-df-convert:hover {\n",
              "      background-color: #E2EBFA;\n",
              "      box-shadow: 0px 1px 2px rgba(60, 64, 67, 0.3), 0px 1px 3px 1px rgba(60, 64, 67, 0.15);\n",
              "      fill: #174EA6;\n",
              "    }\n",
              "\n",
              "    [theme=dark] .colab-df-convert {\n",
              "      background-color: #3B4455;\n",
              "      fill: #D2E3FC;\n",
              "    }\n",
              "\n",
              "    [theme=dark] .colab-df-convert:hover {\n",
              "      background-color: #434B5C;\n",
              "      box-shadow: 0px 1px 3px 1px rgba(0, 0, 0, 0.15);\n",
              "      filter: drop-shadow(0px 1px 2px rgba(0, 0, 0, 0.3));\n",
              "      fill: #FFFFFF;\n",
              "    }\n",
              "  </style>\n",
              "\n",
              "      <script>\n",
              "        const buttonEl =\n",
              "          document.querySelector('#df-e6a7b486-fd79-4737-9beb-b4676b47507f button.colab-df-convert');\n",
              "        buttonEl.style.display =\n",
              "          google.colab.kernel.accessAllowed ? 'block' : 'none';\n",
              "\n",
              "        async function convertToInteractive(key) {\n",
              "          const element = document.querySelector('#df-e6a7b486-fd79-4737-9beb-b4676b47507f');\n",
              "          const dataTable =\n",
              "            await google.colab.kernel.invokeFunction('convertToInteractive',\n",
              "                                                     [key], {});\n",
              "          if (!dataTable) return;\n",
              "\n",
              "          const docLinkHtml = 'Like what you see? Visit the ' +\n",
              "            '<a target=\"_blank\" href=https://colab.research.google.com/notebooks/data_table.ipynb>data table notebook</a>'\n",
              "            + ' to learn more about interactive tables.';\n",
              "          element.innerHTML = '';\n",
              "          dataTable['output_type'] = 'display_data';\n",
              "          await google.colab.output.renderOutput(dataTable, element);\n",
              "          const docLink = document.createElement('div');\n",
              "          docLink.innerHTML = docLinkHtml;\n",
              "          element.appendChild(docLink);\n",
              "        }\n",
              "      </script>\n",
              "    </div>\n",
              "  </div>\n",
              "  "
            ]
          },
          "metadata": {},
          "execution_count": 17
        }
      ],
      "source": [
        "testdf.head()"
      ]
    },
    {
      "cell_type": "code",
      "execution_count": null,
      "metadata": {
        "id": "XQVdXNC2dh0q"
      },
      "outputs": [],
      "source": [
        "codes=list(testdf['codes'])\n",
        "comp=list(testdf['comp'])"
      ]
    },
    {
      "cell_type": "code",
      "execution_count": null,
      "metadata": {
        "id": "niI1qXzR6t_b"
      },
      "outputs": [],
      "source": [
        "def preprocess(alltexts):\n",
        "  ttext=[]\n",
        "  for sent in alltexts:\n",
        "    value=str(sent)\n",
        "    value = value.lower()\n",
        "    tsent=\"\"\n",
        "    voc=\"abcdefghijklmnopqrstuvwxyz\"\n",
        "    for ch in value:\n",
        "      if ch in voc:\n",
        "        tsent+=ch\n",
        "      else:\n",
        "        tsent+=\" \"\n",
        "    ttext.append(tsent)\n",
        "  return ttext"
      ]
    },
    {
      "cell_type": "code",
      "execution_count": null,
      "metadata": {
        "id": "I9FWGNoi6iSf",
        "colab": {
          "base_uri": "https://localhost:8080/",
          "height": 53
        },
        "outputId": "4dbc4ea5-9a78-4c72-f5ad-eeb78cea246e"
      },
      "outputs": [
        {
          "output_type": "execute_result",
          "data": {
            "text/plain": [
              "\"ncomp=[]\\nncodes=[]\\nfor i in range(len(codes)):\\n  sent=preprocess([comp[i]])[0]\\n  words=sent.split(' ')\\n  if len(words)<=512:\\n    #print(' '.join(words))\\n    tcomp=str(' '.join(words))\\n    ncomp.append(tcomp)\\n    ncodes.append(codes[i])\""
            ],
            "application/vnd.google.colaboratory.intrinsic+json": {
              "type": "string"
            }
          },
          "metadata": {},
          "execution_count": 20
        }
      ],
      "source": [
        "\"\"\"ncomp=[]\n",
        "ncodes=[]\n",
        "for i in range(len(codes)):\n",
        "  sent=preprocess([comp[i]])[0]\n",
        "  words=sent.split(' ')\n",
        "  if len(words)<=512:\n",
        "    #print(' '.join(words))\n",
        "    tcomp=str(' '.join(words))\n",
        "    ncomp.append(tcomp)\n",
        "    ncodes.append(codes[i])\"\"\"\n"
      ]
    },
    {
      "cell_type": "code",
      "execution_count": null,
      "metadata": {
        "id": "J0wsBA3A7GL7"
      },
      "outputs": [],
      "source": []
    },
    {
      "cell_type": "code",
      "execution_count": null,
      "metadata": {
        "id": "kXPhqP-h8G5p",
        "colab": {
          "base_uri": "https://localhost:8080/",
          "height": 35
        },
        "outputId": "d0e04ecf-6de3-489c-c453-0c843534d874"
      },
      "outputs": [
        {
          "output_type": "execute_result",
          "data": {
            "text/plain": [
              "\"testdf=pd.DataFrame()\\ntestdf['comp']=ncomp \\ntestdf['codes']=ncodes\""
            ],
            "application/vnd.google.colaboratory.intrinsic+json": {
              "type": "string"
            }
          },
          "metadata": {},
          "execution_count": 21
        }
      ],
      "source": [
        "\"\"\"testdf=pd.DataFrame()\n",
        "testdf['comp']=ncomp\n",
        "testdf['codes']=ncodes\"\"\""
      ]
    },
    {
      "cell_type": "code",
      "execution_count": null,
      "metadata": {
        "id": "E9Umoxwjdh0q"
      },
      "outputs": [],
      "source": [
        "testdf['codes']=testdf['codes'].apply(lambda x : str(x).split(',')[0].replace(' ',''))"
      ]
    },
    {
      "cell_type": "code",
      "execution_count": null,
      "metadata": {
        "colab": {
          "base_uri": "https://localhost:8080/",
          "height": 441
        },
        "id": "7hIqpR2edh0r",
        "outputId": "8c3036ca-c816-43ff-e3b7-6c778a3d0306"
      },
      "outputs": [
        {
          "output_type": "execute_result",
          "data": {
            "text/plain": [
              "   Unnamed: 0.6                              Complaint_Description  \\\n",
              "0             0  Consumer states he couldn't see as well close ...   \n",
              "1             1  On September 3, 2021, Mr. Shi called in and sa...   \n",
              "2             2  Distributor calls to respond to consumers the ...   \n",
              "3             3  The compressor has a problem in the I/A, when ...   \n",
              "4             4  Customer stated that he have bought our produc...   \n",
              "\n",
              "  IMDRF Annex A IMDRF Annex E IMDRF Annex F  Unnamed: 0.5  Unnamed: 0.4  \\\n",
              "0           A24       E083901           F26           NaN           NaN   \n",
              "1           A24         E0845           F26           NaN           NaN   \n",
              "2         A0204         E2403           F26           NaN           NaN   \n",
              "3           A14         E2403           F26           NaN           NaN   \n",
              "4           A24         E0845           F11           NaN           NaN   \n",
              "\n",
              "   Unnamed: 0.3  Unnamed: 0.2  Unnamed: 0.1  Unnamed: 0 IMDRF Annex B  \\\n",
              "0           NaN           NaN           NaN         NaN           NaN   \n",
              "1           NaN           NaN           NaN         NaN           NaN   \n",
              "2           NaN           NaN           NaN         NaN           NaN   \n",
              "3           NaN           NaN           NaN         NaN           NaN   \n",
              "4           NaN           NaN           NaN         NaN           NaN   \n",
              "\n",
              "  IMDRF Annex C IMDRF Annex D IMDRF Annex G Unnamed: 8  \\\n",
              "0           NaN           NaN           NaN        NaN   \n",
              "1           NaN           NaN           NaN        NaN   \n",
              "2           NaN           NaN           NaN        NaN   \n",
              "3           NaN           NaN           NaN        NaN   \n",
              "4           NaN           NaN           NaN        NaN   \n",
              "\n",
              "                                                comp  codes  \n",
              "0  Consumer states he couldn't see as well close ...    A24  \n",
              "1  On September 3, 2021, Mr. Shi called in and sa...    A24  \n",
              "2  Distributor calls to respond to consumers the ...  A0204  \n",
              "3  The compressor has a problem in the I/A, when ...    A14  \n",
              "4  Customer stated that he have bought our produc...    A24  "
            ],
            "text/html": [
              "\n",
              "  <div id=\"df-a2bf029e-4346-4e36-898d-a65d294b4573\">\n",
              "    <div class=\"colab-df-container\">\n",
              "      <div>\n",
              "<style scoped>\n",
              "    .dataframe tbody tr th:only-of-type {\n",
              "        vertical-align: middle;\n",
              "    }\n",
              "\n",
              "    .dataframe tbody tr th {\n",
              "        vertical-align: top;\n",
              "    }\n",
              "\n",
              "    .dataframe thead th {\n",
              "        text-align: right;\n",
              "    }\n",
              "</style>\n",
              "<table border=\"1\" class=\"dataframe\">\n",
              "  <thead>\n",
              "    <tr style=\"text-align: right;\">\n",
              "      <th></th>\n",
              "      <th>Unnamed: 0.6</th>\n",
              "      <th>Complaint_Description</th>\n",
              "      <th>IMDRF Annex A</th>\n",
              "      <th>IMDRF Annex E</th>\n",
              "      <th>IMDRF Annex F</th>\n",
              "      <th>Unnamed: 0.5</th>\n",
              "      <th>Unnamed: 0.4</th>\n",
              "      <th>Unnamed: 0.3</th>\n",
              "      <th>Unnamed: 0.2</th>\n",
              "      <th>Unnamed: 0.1</th>\n",
              "      <th>Unnamed: 0</th>\n",
              "      <th>IMDRF Annex B</th>\n",
              "      <th>IMDRF Annex C</th>\n",
              "      <th>IMDRF Annex D</th>\n",
              "      <th>IMDRF Annex G</th>\n",
              "      <th>Unnamed: 8</th>\n",
              "      <th>comp</th>\n",
              "      <th>codes</th>\n",
              "    </tr>\n",
              "  </thead>\n",
              "  <tbody>\n",
              "    <tr>\n",
              "      <th>0</th>\n",
              "      <td>0</td>\n",
              "      <td>Consumer states he couldn't see as well close ...</td>\n",
              "      <td>A24</td>\n",
              "      <td>E083901</td>\n",
              "      <td>F26</td>\n",
              "      <td>NaN</td>\n",
              "      <td>NaN</td>\n",
              "      <td>NaN</td>\n",
              "      <td>NaN</td>\n",
              "      <td>NaN</td>\n",
              "      <td>NaN</td>\n",
              "      <td>NaN</td>\n",
              "      <td>NaN</td>\n",
              "      <td>NaN</td>\n",
              "      <td>NaN</td>\n",
              "      <td>NaN</td>\n",
              "      <td>Consumer states he couldn't see as well close ...</td>\n",
              "      <td>A24</td>\n",
              "    </tr>\n",
              "    <tr>\n",
              "      <th>1</th>\n",
              "      <td>1</td>\n",
              "      <td>On September 3, 2021, Mr. Shi called in and sa...</td>\n",
              "      <td>A24</td>\n",
              "      <td>E0845</td>\n",
              "      <td>F26</td>\n",
              "      <td>NaN</td>\n",
              "      <td>NaN</td>\n",
              "      <td>NaN</td>\n",
              "      <td>NaN</td>\n",
              "      <td>NaN</td>\n",
              "      <td>NaN</td>\n",
              "      <td>NaN</td>\n",
              "      <td>NaN</td>\n",
              "      <td>NaN</td>\n",
              "      <td>NaN</td>\n",
              "      <td>NaN</td>\n",
              "      <td>On September 3, 2021, Mr. Shi called in and sa...</td>\n",
              "      <td>A24</td>\n",
              "    </tr>\n",
              "    <tr>\n",
              "      <th>2</th>\n",
              "      <td>2</td>\n",
              "      <td>Distributor calls to respond to consumers the ...</td>\n",
              "      <td>A0204</td>\n",
              "      <td>E2403</td>\n",
              "      <td>F26</td>\n",
              "      <td>NaN</td>\n",
              "      <td>NaN</td>\n",
              "      <td>NaN</td>\n",
              "      <td>NaN</td>\n",
              "      <td>NaN</td>\n",
              "      <td>NaN</td>\n",
              "      <td>NaN</td>\n",
              "      <td>NaN</td>\n",
              "      <td>NaN</td>\n",
              "      <td>NaN</td>\n",
              "      <td>NaN</td>\n",
              "      <td>Distributor calls to respond to consumers the ...</td>\n",
              "      <td>A0204</td>\n",
              "    </tr>\n",
              "    <tr>\n",
              "      <th>3</th>\n",
              "      <td>3</td>\n",
              "      <td>The compressor has a problem in the I/A, when ...</td>\n",
              "      <td>A14</td>\n",
              "      <td>E2403</td>\n",
              "      <td>F26</td>\n",
              "      <td>NaN</td>\n",
              "      <td>NaN</td>\n",
              "      <td>NaN</td>\n",
              "      <td>NaN</td>\n",
              "      <td>NaN</td>\n",
              "      <td>NaN</td>\n",
              "      <td>NaN</td>\n",
              "      <td>NaN</td>\n",
              "      <td>NaN</td>\n",
              "      <td>NaN</td>\n",
              "      <td>NaN</td>\n",
              "      <td>The compressor has a problem in the I/A, when ...</td>\n",
              "      <td>A14</td>\n",
              "    </tr>\n",
              "    <tr>\n",
              "      <th>4</th>\n",
              "      <td>4</td>\n",
              "      <td>Customer stated that he have bought our produc...</td>\n",
              "      <td>A24</td>\n",
              "      <td>E0845</td>\n",
              "      <td>F11</td>\n",
              "      <td>NaN</td>\n",
              "      <td>NaN</td>\n",
              "      <td>NaN</td>\n",
              "      <td>NaN</td>\n",
              "      <td>NaN</td>\n",
              "      <td>NaN</td>\n",
              "      <td>NaN</td>\n",
              "      <td>NaN</td>\n",
              "      <td>NaN</td>\n",
              "      <td>NaN</td>\n",
              "      <td>NaN</td>\n",
              "      <td>Customer stated that he have bought our produc...</td>\n",
              "      <td>A24</td>\n",
              "    </tr>\n",
              "  </tbody>\n",
              "</table>\n",
              "</div>\n",
              "      <button class=\"colab-df-convert\" onclick=\"convertToInteractive('df-a2bf029e-4346-4e36-898d-a65d294b4573')\"\n",
              "              title=\"Convert this dataframe to an interactive table.\"\n",
              "              style=\"display:none;\">\n",
              "        \n",
              "  <svg xmlns=\"http://www.w3.org/2000/svg\" height=\"24px\"viewBox=\"0 0 24 24\"\n",
              "       width=\"24px\">\n",
              "    <path d=\"M0 0h24v24H0V0z\" fill=\"none\"/>\n",
              "    <path d=\"M18.56 5.44l.94 2.06.94-2.06 2.06-.94-2.06-.94-.94-2.06-.94 2.06-2.06.94zm-11 1L8.5 8.5l.94-2.06 2.06-.94-2.06-.94L8.5 2.5l-.94 2.06-2.06.94zm10 10l.94 2.06.94-2.06 2.06-.94-2.06-.94-.94-2.06-.94 2.06-2.06.94z\"/><path d=\"M17.41 7.96l-1.37-1.37c-.4-.4-.92-.59-1.43-.59-.52 0-1.04.2-1.43.59L10.3 9.45l-7.72 7.72c-.78.78-.78 2.05 0 2.83L4 21.41c.39.39.9.59 1.41.59.51 0 1.02-.2 1.41-.59l7.78-7.78 2.81-2.81c.8-.78.8-2.07 0-2.86zM5.41 20L4 18.59l7.72-7.72 1.47 1.35L5.41 20z\"/>\n",
              "  </svg>\n",
              "      </button>\n",
              "      \n",
              "  <style>\n",
              "    .colab-df-container {\n",
              "      display:flex;\n",
              "      flex-wrap:wrap;\n",
              "      gap: 12px;\n",
              "    }\n",
              "\n",
              "    .colab-df-convert {\n",
              "      background-color: #E8F0FE;\n",
              "      border: none;\n",
              "      border-radius: 50%;\n",
              "      cursor: pointer;\n",
              "      display: none;\n",
              "      fill: #1967D2;\n",
              "      height: 32px;\n",
              "      padding: 0 0 0 0;\n",
              "      width: 32px;\n",
              "    }\n",
              "\n",
              "    .colab-df-convert:hover {\n",
              "      background-color: #E2EBFA;\n",
              "      box-shadow: 0px 1px 2px rgba(60, 64, 67, 0.3), 0px 1px 3px 1px rgba(60, 64, 67, 0.15);\n",
              "      fill: #174EA6;\n",
              "    }\n",
              "\n",
              "    [theme=dark] .colab-df-convert {\n",
              "      background-color: #3B4455;\n",
              "      fill: #D2E3FC;\n",
              "    }\n",
              "\n",
              "    [theme=dark] .colab-df-convert:hover {\n",
              "      background-color: #434B5C;\n",
              "      box-shadow: 0px 1px 3px 1px rgba(0, 0, 0, 0.15);\n",
              "      filter: drop-shadow(0px 1px 2px rgba(0, 0, 0, 0.3));\n",
              "      fill: #FFFFFF;\n",
              "    }\n",
              "  </style>\n",
              "\n",
              "      <script>\n",
              "        const buttonEl =\n",
              "          document.querySelector('#df-a2bf029e-4346-4e36-898d-a65d294b4573 button.colab-df-convert');\n",
              "        buttonEl.style.display =\n",
              "          google.colab.kernel.accessAllowed ? 'block' : 'none';\n",
              "\n",
              "        async function convertToInteractive(key) {\n",
              "          const element = document.querySelector('#df-a2bf029e-4346-4e36-898d-a65d294b4573');\n",
              "          const dataTable =\n",
              "            await google.colab.kernel.invokeFunction('convertToInteractive',\n",
              "                                                     [key], {});\n",
              "          if (!dataTable) return;\n",
              "\n",
              "          const docLinkHtml = 'Like what you see? Visit the ' +\n",
              "            '<a target=\"_blank\" href=https://colab.research.google.com/notebooks/data_table.ipynb>data table notebook</a>'\n",
              "            + ' to learn more about interactive tables.';\n",
              "          element.innerHTML = '';\n",
              "          dataTable['output_type'] = 'display_data';\n",
              "          await google.colab.output.renderOutput(dataTable, element);\n",
              "          const docLink = document.createElement('div');\n",
              "          docLink.innerHTML = docLinkHtml;\n",
              "          element.appendChild(docLink);\n",
              "        }\n",
              "      </script>\n",
              "    </div>\n",
              "  </div>\n",
              "  "
            ]
          },
          "metadata": {},
          "execution_count": 23
        }
      ],
      "source": [
        "y = testdf['codes']\n",
        "\n",
        "testdf=testdf[y.isin(hirexp_label)]\n",
        "\n",
        "testdf.head()"
      ]
    },
    {
      "cell_type": "code",
      "execution_count": null,
      "metadata": {
        "id": "hz8anGH3dh0r"
      },
      "outputs": [],
      "source": [
        "testdf1=pd.DataFrame()\n",
        "testdf1['comp']=testdf['comp']\n",
        "testdf1['codes']=testdf['codes']"
      ]
    },
    {
      "cell_type": "code",
      "execution_count": null,
      "metadata": {
        "id": "PEf6N6O9dh0r"
      },
      "outputs": [],
      "source": [
        "def gensublevels(code):\n",
        "  code=str(code)\n",
        "  allcodes=[]\n",
        "  if len(code)==3:\n",
        "    allcodes=[code]\n",
        "  elif len(code)==5:\n",
        "    allcodes.append(code[:3])\n",
        "    allcodes.append(code[:5])\n",
        "  else:\n",
        "    allcodes.append(code[:3])\n",
        "    allcodes.append(code[:5])\n",
        "    allcodes.append(code)\n",
        "  return allcodes"
      ]
    },
    {
      "cell_type": "code",
      "execution_count": null,
      "metadata": {
        "id": "fOj2Bu6Ndh0s"
      },
      "outputs": [],
      "source": [
        "finalcomps=list(testdf1['comp'])\n",
        "finalcodes=list(testdf1['codes'])\n",
        "sentence1=[]\n",
        "code1=[]"
      ]
    },
    {
      "cell_type": "code",
      "execution_count": null,
      "metadata": {
        "id": "xdX1biLddh0s"
      },
      "outputs": [],
      "source": [
        "for i in range(len(finalcomps)):\n",
        "    if finalcodes[i] in code1:\n",
        "      continue\n",
        "    else:\n",
        "      sentence1.append(finalcomps[i])\n",
        "      code1.append(gensublevels(finalcodes[i]))\n"
      ]
    },
    {
      "cell_type": "code",
      "execution_count": null,
      "metadata": {
        "id": "tod3W1Lldh0t"
      },
      "outputs": [],
      "source": [
        "finaldataframe=pd.DataFrame()\n",
        "finaldataframe['sent1']=sentence1\n",
        "finaldataframe['code1']=code1"
      ]
    },
    {
      "cell_type": "code",
      "execution_count": null,
      "metadata": {
        "id": "H58Z47a97ZO8"
      },
      "outputs": [],
      "source": [
        "counts=finaldataframe['code1'].value_counts()\n",
        "finaldataframe = finaldataframe[~finaldataframe['code1'].isin(counts[counts < 10].index)]\n",
        "\n",
        "sentence1 =list(finaldataframe['sent1'])\n",
        "code1=list(finaldataframe['code1'])"
      ]
    },
    {
      "cell_type": "code",
      "execution_count": null,
      "metadata": {
        "colab": {
          "base_uri": "https://localhost:8080/"
        },
        "id": "Ty9Vqlx18OLx",
        "outputId": "bbec6a11-55ab-481a-be81-ab4502cfb73a"
      },
      "outputs": [
        {
          "output_type": "execute_result",
          "data": {
            "text/plain": [
              "[A02, A0201]             2317\n",
              "[A24]                    2196\n",
              "[A02, A0206, A020602]     461\n",
              "[A04, A0401]              437\n",
              "[A08]                     176\n",
              "[A18, A1801]              140\n",
              "[A04, A0406]              129\n",
              "[A05]                     112\n",
              "[A09, A0902]              104\n",
              "[A11, A1104]               99\n",
              "[A05, A0504]               84\n",
              "[A02, A0204]               83\n",
              "[A04, A0404]               83\n",
              "[A02, A0205]               79\n",
              "[A05, A0503, A050301]      72\n",
              "[A05, A0511, A051104]      69\n",
              "[A22, A2201]               66\n",
              "[A04, A0409]               62\n",
              "[A13]                      54\n",
              "[A11]                      52\n",
              "[A08, A0801]               49\n",
              "[A18]                      44\n",
              "[A14]                      37\n",
              "[A05, A0505]               24\n",
              "[A09]                      22\n",
              "[A14, A1414, A141401]      20\n",
              "[A02, A0205, A020501]      18\n",
              "[A05, A0507, A050702]      17\n",
              "[A04, A0407]               16\n",
              "[A04]                      15\n",
              "[A05, A0503]               15\n",
              "[A15]                      13\n",
              "[A02]                      12\n",
              "[A15, A1501, A150101]      11\n",
              "[A14, A1414]               10\n",
              "[A15, A1501]               10\n",
              "Name: code1, dtype: int64"
            ]
          },
          "metadata": {},
          "execution_count": 30
        }
      ],
      "source": [
        "finaldataframe['code1'].value_counts()"
      ]
    },
    {
      "cell_type": "code",
      "execution_count": null,
      "metadata": {
        "id": "7gQ405I57sFk"
      },
      "outputs": [],
      "source": [
        "finalcodes=[]\n",
        "for i in range(len(code1)):\n",
        "  for j in range(len(code1[i])):\n",
        "    finalcodes.append(code1[i][j])"
      ]
    },
    {
      "cell_type": "code",
      "execution_count": null,
      "metadata": {
        "id": "_Qojd4uo8DPz"
      },
      "outputs": [],
      "source": [
        "finalcodes=list(set(finalcodes))"
      ]
    },
    {
      "cell_type": "code",
      "execution_count": null,
      "metadata": {
        "id": "_0dLQP068cMu"
      },
      "outputs": [],
      "source": [
        "finalcodes.sort()"
      ]
    },
    {
      "cell_type": "code",
      "execution_count": null,
      "metadata": {
        "colab": {
          "base_uri": "https://localhost:8080/"
        },
        "id": "fq_mP16I8H-j",
        "outputId": "85ed8a67-658a-4cd4-e60e-6f1122b5220c"
      },
      "outputs": [
        {
          "output_type": "execute_result",
          "data": {
            "text/plain": [
              "40"
            ]
          },
          "metadata": {},
          "execution_count": 34
        }
      ],
      "source": [
        "len(finalcodes)"
      ]
    },
    {
      "cell_type": "code",
      "execution_count": null,
      "metadata": {
        "id": "VGYA1tyedh0t"
      },
      "outputs": [],
      "source": [
        "traindf=pd.read_csv('/content/drive/MyDrive/nlpproject/annexurea.csv')\n"
      ]
    },
    {
      "cell_type": "code",
      "execution_count": null,
      "metadata": {
        "id": "n0Uu6iHWdh0t"
      },
      "outputs": [],
      "source": [
        "codes=list(traindf['Code'])\n",
        "desc=list(traindf['Definition'])"
      ]
    },
    {
      "cell_type": "code",
      "execution_count": null,
      "metadata": {
        "id": "28_YEqk9dh0u"
      },
      "outputs": [],
      "source": [
        "dic={}\n",
        "tdesccodes=[]\n",
        "tdesc=[]\n",
        "\n",
        "for i in range(len(codes)):\n",
        "  if codes[i] in finalcodes:\n",
        "    dic[codes[i]]=desc[i]\n",
        "    tdesccodes.append(gensublevels(codes[i]))\n",
        "    tdesc.append(desc[i])"
      ]
    },
    {
      "cell_type": "code",
      "execution_count": null,
      "metadata": {
        "id": "IafNAEAcdh0u"
      },
      "outputs": [],
      "source": [
        "encodelabels={}\n",
        "cnt=0\n",
        "for i in finalcodes:\n",
        "  encodelabels[i]=cnt\n",
        "  cnt+=1"
      ]
    },
    {
      "cell_type": "code",
      "execution_count": null,
      "metadata": {
        "id": "hPI_d67gdh0u"
      },
      "outputs": [],
      "source": [
        "decodelabels={}\n",
        "for i in encodelabels.keys():\n",
        "  decodelabels[encodelabels[i]]=i"
      ]
    },
    {
      "cell_type": "code",
      "execution_count": null,
      "metadata": {
        "colab": {
          "base_uri": "https://localhost:8080/"
        },
        "id": "zI0l3WYH8Yay",
        "outputId": "0bb14e0a-2c1d-42e5-e198-72c9899d0d8f"
      },
      "outputs": [
        {
          "output_type": "execute_result",
          "data": {
            "text/plain": [
              "{0: 'A02',\n",
              " 1: 'A0201',\n",
              " 2: 'A0204',\n",
              " 3: 'A0205',\n",
              " 4: 'A020501',\n",
              " 5: 'A0206',\n",
              " 6: 'A020602',\n",
              " 7: 'A04',\n",
              " 8: 'A0401',\n",
              " 9: 'A0404',\n",
              " 10: 'A0406',\n",
              " 11: 'A0407',\n",
              " 12: 'A0409',\n",
              " 13: 'A05',\n",
              " 14: 'A0503',\n",
              " 15: 'A050301',\n",
              " 16: 'A0504',\n",
              " 17: 'A0505',\n",
              " 18: 'A0507',\n",
              " 19: 'A050702',\n",
              " 20: 'A0511',\n",
              " 21: 'A051104',\n",
              " 22: 'A08',\n",
              " 23: 'A0801',\n",
              " 24: 'A09',\n",
              " 25: 'A0902',\n",
              " 26: 'A11',\n",
              " 27: 'A1104',\n",
              " 28: 'A13',\n",
              " 29: 'A14',\n",
              " 30: 'A1414',\n",
              " 31: 'A141401',\n",
              " 32: 'A15',\n",
              " 33: 'A1501',\n",
              " 34: 'A150101',\n",
              " 35: 'A18',\n",
              " 36: 'A1801',\n",
              " 37: 'A22',\n",
              " 38: 'A2201',\n",
              " 39: 'A24'}"
            ]
          },
          "metadata": {},
          "execution_count": 40
        }
      ],
      "source": [
        "decodelabels"
      ]
    },
    {
      "cell_type": "code",
      "execution_count": null,
      "metadata": {
        "id": "YDXoUdwZdh0u",
        "colab": {
          "base_uri": "https://localhost:8080/",
          "height": 35
        },
        "outputId": "65358e25-7473-43a9-db8b-ae44cf4e674d"
      },
      "outputs": [
        {
          "output_type": "execute_result",
          "data": {
            "text/plain": [
              "'for i in range(len(tdesc)):\\n  alldata.append(tdesc[i])\\n  tc=[]\\n  for j in range(len(tdesccodes[i])):\\n    tc.append(encodelabels[tdesccodes[i][j]]) \\n  allcodes.append(tc)\\n'"
            ],
            "application/vnd.google.colaboratory.intrinsic+json": {
              "type": "string"
            }
          },
          "metadata": {},
          "execution_count": 41
        }
      ],
      "source": [
        "alldata=[]\n",
        "allcodes=[]\n",
        "\n",
        "for i in range(len(sentence1)):\n",
        "  alldata.append(sentence1[i])\n",
        "  tc=[]\n",
        "  for j in range(len(code1[i])):\n",
        "    tc.append(encodelabels[code1[i][j]])\n",
        "  allcodes.append(tc)\n",
        "\n",
        "\"\"\"for i in range(len(tdesc)):\n",
        "  alldata.append(tdesc[i])\n",
        "  tc=[]\n",
        "  for j in range(len(tdesccodes[i])):\n",
        "    tc.append(encodelabels[tdesccodes[i][j]])\n",
        "  allcodes.append(tc)\n",
        "\"\"\""
      ]
    },
    {
      "cell_type": "code",
      "execution_count": null,
      "metadata": {
        "colab": {
          "base_uri": "https://localhost:8080/"
        },
        "id": "jWdr_ZfIdh0v",
        "outputId": "0f7c358e-e4d6-4140-c7ad-90d0884221ec"
      },
      "outputs": [
        {
          "output_type": "execute_result",
          "data": {
            "text/plain": [
              "(7208, 7208)"
            ]
          },
          "metadata": {},
          "execution_count": 42
        }
      ],
      "source": [
        "len(alldata),len(allcodes)"
      ]
    },
    {
      "cell_type": "code",
      "execution_count": null,
      "metadata": {
        "id": "TR60CKl9dh0v"
      },
      "outputs": [],
      "source": [
        "finaldf=pd.DataFrame()\n",
        "finaldf['comp']=alldata\n",
        "finaldf['codes']=allcodes"
      ]
    },
    {
      "cell_type": "code",
      "execution_count": null,
      "metadata": {
        "id": "pQyLQtnAdh0v"
      },
      "outputs": [],
      "source": [
        "finaldf['codes'].value_counts()\n",
        "\n",
        "counts = finaldf['codes'].value_counts()"
      ]
    },
    {
      "cell_type": "code",
      "execution_count": null,
      "metadata": {
        "id": "HqsFOpatdh0w"
      },
      "outputs": [],
      "source": [
        "finaldf = finaldf[~finaldf['codes'].isin(counts[counts < 10].index)]\n",
        "\n",
        "alldata=list(finaldf['comp'])\n",
        "allcodes=list(finaldf['codes'])"
      ]
    },
    {
      "cell_type": "code",
      "execution_count": null,
      "metadata": {
        "id": "-1i_PYR6dh0w"
      },
      "outputs": [],
      "source": [
        "hirexp_label=list(set((hirexp_label)))"
      ]
    },
    {
      "cell_type": "code",
      "execution_count": null,
      "metadata": {
        "id": "LuvL_hYUfZAj"
      },
      "outputs": [],
      "source": [
        "def preprocess(alltexts):\n",
        "  ttext=[]\n",
        "  for sent in alltexts:\n",
        "    value=str(sent)\n",
        "    value = value.lower()\n",
        "    tsent=\"\"\n",
        "    voc=\"abcdefghijklmnopqrstuvwxyz\"\n",
        "    for ch in value:\n",
        "      if ch in voc:\n",
        "        tsent+=ch\n",
        "      else:\n",
        "        tsent+=\" \"\n",
        "    ttext.append(tsent)\n",
        "  return ttext"
      ]
    },
    {
      "cell_type": "code",
      "execution_count": null,
      "metadata": {
        "id": "nvIupGX4fb4U"
      },
      "outputs": [],
      "source": [
        "tfallwds=[]"
      ]
    },
    {
      "cell_type": "code",
      "execution_count": null,
      "metadata": {
        "id": "5gZf_wTmfgvz"
      },
      "outputs": [],
      "source": [
        "for i in range(len(alldata)):\n",
        "    sent=alldata[i]\n",
        "    sent=preprocess([sent])[0]\n",
        "    temp=sent.split(' ')\n",
        "    tfallwds+=temp\n",
        "\n"
      ]
    },
    {
      "cell_type": "code",
      "execution_count": null,
      "metadata": {
        "colab": {
          "base_uri": "https://localhost:8080/",
          "height": 35
        },
        "id": "XA6g4ZSMdh0w",
        "outputId": "72b98677-5469-4c97-86fc-1a16b73f68e6"
      },
      "outputs": [
        {
          "output_type": "execute_result",
          "data": {
            "text/plain": [
              "\"with open('/content/drive/MyDrive/nlpproject/april29/allwds.pkl','rb') as f: \\n    tallwds=pickle.load(f)\""
            ],
            "application/vnd.google.colaboratory.intrinsic+json": {
              "type": "string"
            }
          },
          "metadata": {},
          "execution_count": 50
        }
      ],
      "source": [
        "\"\"\"with open('/content/drive/MyDrive/nlpproject/april29/allwds.pkl','rb') as f:\n",
        "    tallwds=pickle.load(f)\"\"\""
      ]
    },
    {
      "cell_type": "code",
      "execution_count": null,
      "metadata": {
        "colab": {
          "base_uri": "https://localhost:8080/",
          "height": 35
        },
        "id": "BB5HHNGziUm-",
        "outputId": "743be637-e181-47eb-8807-50613dae60be"
      },
      "outputs": [
        {
          "output_type": "execute_result",
          "data": {
            "text/plain": [
              "'for j in range(len(tallwds)):\\n  tallwds[j]=tallwds[j].lower()'"
            ],
            "application/vnd.google.colaboratory.intrinsic+json": {
              "type": "string"
            }
          },
          "metadata": {},
          "execution_count": 51
        }
      ],
      "source": [
        "\"\"\"for j in range(len(tallwds)):\n",
        "  tallwds[j]=tallwds[j].lower()\"\"\""
      ]
    },
    {
      "cell_type": "code",
      "execution_count": null,
      "metadata": {
        "id": "yAXQ24uHflhU"
      },
      "outputs": [],
      "source": [
        "#tfallwds+=tallwds"
      ]
    },
    {
      "cell_type": "code",
      "execution_count": null,
      "metadata": {
        "id": "FboWlDBhiQIT"
      },
      "outputs": [],
      "source": [
        "#tfallwds=list(set(tallwds))"
      ]
    },
    {
      "cell_type": "code",
      "execution_count": null,
      "metadata": {
        "id": "CSQmp52bCRrR"
      },
      "outputs": [],
      "source": [
        "ttallwdsa=[]\n",
        "for i in  range(len(tfallwds)):\n",
        "  if len(tfallwds[i])<=2:\n",
        "    continue\n",
        "  else:\n",
        "    ttallwdsa.append(tfallwds[i].lower())\n"
      ]
    },
    {
      "cell_type": "code",
      "execution_count": null,
      "metadata": {
        "colab": {
          "base_uri": "https://localhost:8080/"
        },
        "id": "hydE6LEC9XaO",
        "outputId": "12304ac9-3462-457d-b4ff-20062b996e96"
      },
      "outputs": [
        {
          "output_type": "execute_result",
          "data": {
            "text/plain": [
              "306255"
            ]
          },
          "metadata": {},
          "execution_count": 55
        }
      ],
      "source": [
        "len(ttallwdsa)"
      ]
    },
    {
      "cell_type": "code",
      "source": [
        "import pickle\n",
        "with open('/content/drive/MyDrive/nlpproject/bluebert/annexureawords.pkl','wb') as f:\n",
        "  pickle .dump(['biocompatability','itching','eye','irritation','skin','problem']+ttallwdsa,f)"
      ],
      "metadata": {
        "id": "Zk4bdAfcL8Ri"
      },
      "execution_count": null,
      "outputs": []
    },
    {
      "cell_type": "code",
      "source": [
        "with open('/content/drive/MyDrive/nlpproject/bluebert/decodelabelsannexure_a.pkl','wb') as f:\n",
        "  pickle.dump(decodelabels,f)"
      ],
      "metadata": {
        "id": "7UA1jk7sMgl_"
      },
      "execution_count": null,
      "outputs": []
    },
    {
      "cell_type": "code",
      "execution_count": null,
      "metadata": {
        "colab": {
          "base_uri": "https://localhost:8080/"
        },
        "id": "glIJ_Y4xdh0x",
        "outputId": "df8ef5c9-d099-4470-9b01-339efe08f741"
      },
      "outputs": [
        {
          "output_type": "stream",
          "name": "stderr",
          "text": [
            "Some weights of the PyTorch model were not used when initializing the TF 2.0 model TFBertModel: ['bert.embeddings.position_ids', 'cls.predictions.transform.dense.bias', 'cls.seq_relationship.weight', 'cls.predictions.transform.LayerNorm.weight', 'cls.predictions.transform.dense.weight', 'cls.predictions.decoder.bias', 'cls.predictions.decoder.weight', 'cls.seq_relationship.bias', 'cls.predictions.transform.LayerNorm.bias', 'cls.predictions.bias']\n",
            "- This IS expected if you are initializing TFBertModel from a PyTorch model trained on another task or with another architecture (e.g. initializing a TFBertForSequenceClassification model from a BertForPreTraining model).\n",
            "- This IS NOT expected if you are initializing TFBertModel from a PyTorch model that you expect to be exactly identical (e.g. initializing a TFBertForSequenceClassification model from a BertForSequenceClassification model).\n",
            "All the weights of TFBertModel were initialized from the PyTorch model.\n",
            "If your task is similar to the task the model of the checkpoint was trained on, you can already use TFBertModel for predictions without further training.\n"
          ]
        },
        {
          "output_type": "execute_result",
          "data": {
            "text/plain": [
              "<transformers.models.bert.modeling_tf_bert.TFBertEmbeddings at 0x7fb3df28ab60>"
            ]
          },
          "metadata": {},
          "execution_count": 58
        }
      ],
      "source": [
        "from transformers import TFAutoModel\n",
        "bbertmodel=TFAutoModel.from_pretrained(\"bionlp/bluebert_pubmed_uncased_L-12_H-768_A-12\",from_pt=True)\n",
        "\n",
        "for l in bbertmodel.layers:\n",
        "  l.trainable=False\n",
        "bbert_tokenizer = BertTokenizer.from_pretrained(\"bionlp/bluebert_pubmed_uncased_L-12_H-768_A-12\")\n",
        "\n",
        "added_tokens = bbert_tokenizer.add_tokens(['biocompatability','itching','eye','irritation','skin','problem']+ttallwdsa)\n",
        "bbertmodel.resize_token_embeddings(len(bbert_tokenizer))"
      ]
    },
    {
      "cell_type": "code",
      "execution_count": null,
      "metadata": {
        "id": "wJ-MeBx8Hy6h"
      },
      "outputs": [],
      "source": [
        "def blubertpreprocess(sent):\n",
        "  value=str(sent)\n",
        "  value = value.lower()\n",
        "  value = re.sub(r'[\\r\\n]+', ' ', value)\n",
        "  value = re.sub(r'[^\\x00-\\x7F]+', ' ', value)\n",
        "\n",
        "  tokenized = TreebankWordTokenizer().tokenize(value)\n",
        "  sentence = ' '.join(tokenized)\n",
        "  sentence = re.sub(r\"\\s's\\b\", \"'s\", sentence)\n",
        "  input_ids = torch.tensor(bbert_tokenizer.encode(sentence,max_length=512,pad_to_max_length = True,add_special_tokens = True)).unsqueeze(0)\n",
        "  return input_ids"
      ]
    },
    {
      "cell_type": "code",
      "execution_count": null,
      "metadata": {
        "id": "q28gCWaodh0x"
      },
      "outputs": [],
      "source": [
        "from transformers import AutoModel,TFAutoModel\n",
        "from transformers import BertTokenizer, TFBertModel, BertConfig\n",
        "import tensorflow as tf\n",
        "from keras.layers import Input, Dense, Embedding, SpatialDropout1D, Dropout, add, concatenate\n",
        "from keras.layers import CuDNNLSTM, Bidirectional, GlobalMaxPooling1D, GlobalAveragePooling1D,LSTM\n",
        "#bbert_tokenizer = BertTokenizer.from_pretrained(\"bionlp/bluebert_pubmed_uncased_L-12_H-768_A-12\")\n",
        "input = tf.keras.layers.Input(shape=(512,),dtype='int32')\n",
        "outputs =bbertmodel(input)\n",
        "out=outputs[0]\n",
        "#x = Bidirectional(LSTM(512, return_sequences=True))(out)\n",
        "#x = Bidirectional(LSTM(512, return_sequences=True))(x)\n",
        "feat_conv1d=tf.keras.layers.Conv1D(200, 1, activation='relu')(out)\n",
        "feat_conv1d=tf.keras.layers.BatchNormalization()(feat_conv1d)\n",
        "max_pool_1d = tf.keras.layers.MaxPooling1D(pool_size=1,strides=1, padding='valid')(feat_conv1d)\n",
        "feat1_conv1d=tf.keras.layers.Conv1D(200, 1, activation='relu')(max_pool_1d)\n",
        "feat_conv1d=tf.keras.layers.BatchNormalization()(feat_conv1d)\n",
        "max1_pool_1d = tf.keras.layers.MaxPooling1D(pool_size=2,strides=2, padding='valid')(feat1_conv1d)\n",
        "ldrop_feat = tf.keras.layers.Dropout(0.1)(max1_pool_1d)\n",
        "flat=tf.keras.layers.Flatten()(ldrop_feat)\n",
        "output1=tf.keras.layers.Dense(256,activation='relu')(flat)\n",
        "output1=tf.keras.layers.BatchNormalization()(output1)\n",
        "output1 = tf.keras.layers.Dropout(0.1)(output1)\n",
        "output2=tf.keras.layers.Dense(128,activation='relu')(output1)\n",
        "output2 = tf.keras.layers.Dropout(0.1)(output2)\n",
        "output2=tf.keras.layers.BatchNormalization()(output2)\n",
        "\"\"\"output2=tf.keras.layers.Dense(128,activation='relu')(output2)\n",
        "output2 = tf.keras.layers.Dropout(0.1)(output2)\n",
        "output2=tf.keras.layers.BatchNormalization()(output2)\"\"\"\n",
        "finalout=tf.keras.layers.Dense(len(finalcodes),activation='sigmoid')(output2)\n",
        "model = Model(inputs=input, outputs=finalout)"
      ]
    },
    {
      "cell_type": "code",
      "execution_count": null,
      "metadata": {
        "colab": {
          "base_uri": "https://localhost:8080/"
        },
        "id": "hrfXJHNudh0x",
        "outputId": "62c2d7f6-8ae7-47b2-b0f1-328bf2ae60e8"
      },
      "outputs": [
        {
          "output_type": "stream",
          "name": "stdout",
          "text": [
            "Model: \"model\"\n",
            "_________________________________________________________________\n",
            " Layer (type)                Output Shape              Param #   \n",
            "=================================================================\n",
            " input_1 (InputLayer)        [(None, 512)]             0         \n",
            "                                                                 \n",
            " tf_bert_model (TFBertModel)  TFBaseModelOutputWithPoo  112416768\n",
            "                             lingAndCrossAttentions(l            \n",
            "                             ast_hidden_state=(None,             \n",
            "                             512, 768),                          \n",
            "                              pooler_output=(None, 76            \n",
            "                             8),                                 \n",
            "                              past_key_values=None, h            \n",
            "                             idden_states=None, atten            \n",
            "                             tions=None, cross_attent            \n",
            "                             ions=None)                          \n",
            "                                                                 \n",
            " conv1d (Conv1D)             (None, 512, 200)          153800    \n",
            "                                                                 \n",
            " batch_normalization (BatchN  (None, 512, 200)         800       \n",
            " ormalization)                                                   \n",
            "                                                                 \n",
            " max_pooling1d (MaxPooling1D  (None, 512, 200)         0         \n",
            " )                                                               \n",
            "                                                                 \n",
            " conv1d_1 (Conv1D)           (None, 512, 200)          40200     \n",
            "                                                                 \n",
            " max_pooling1d_1 (MaxPooling  (None, 256, 200)         0         \n",
            " 1D)                                                             \n",
            "                                                                 \n",
            " dropout_37 (Dropout)        (None, 256, 200)          0         \n",
            "                                                                 \n",
            " flatten (Flatten)           (None, 51200)             0         \n",
            "                                                                 \n",
            " dense (Dense)               (None, 256)               13107456  \n",
            "                                                                 \n",
            " batch_normalization_2 (Batc  (None, 256)              1024      \n",
            " hNormalization)                                                 \n",
            "                                                                 \n",
            " dropout_38 (Dropout)        (None, 256)               0         \n",
            "                                                                 \n",
            " dense_1 (Dense)             (None, 128)               32896     \n",
            "                                                                 \n",
            " dropout_39 (Dropout)        (None, 128)               0         \n",
            "                                                                 \n",
            " batch_normalization_3 (Batc  (None, 128)              512       \n",
            " hNormalization)                                                 \n",
            "                                                                 \n",
            " dense_2 (Dense)             (None, 40)                5160      \n",
            "                                                                 \n",
            "=================================================================\n",
            "Total params: 152,134,040\n",
            "Trainable params: 39,716,104\n",
            "Non-trainable params: 112,417,936\n",
            "_________________________________________________________________\n"
          ]
        }
      ],
      "source": [
        "model.summary()"
      ]
    },
    {
      "cell_type": "code",
      "execution_count": null,
      "metadata": {
        "colab": {
          "base_uri": "https://localhost:8080/"
        },
        "id": "JUgKZc9Y9sU5",
        "outputId": "fa4dbfa1-8e90-4966-f1d2-0fdde8e6f8bc"
      },
      "outputs": [
        {
          "output_type": "stream",
          "name": "stdout",
          "text": [
            "Looking in indexes: https://pypi.org/simple, https://us-python.pkg.dev/colab-wheels/public/simple/\n",
            "Collecting tensorflow_addons\n",
            "  Downloading tensorflow_addons-0.20.0-cp310-cp310-manylinux_2_17_x86_64.manylinux2014_x86_64.whl (591 kB)\n",
            "\u001b[2K     \u001b[90m━━━━━━━━━━━━━━━━━━━━━━━━━━━━━━━━━━━━━━\u001b[0m \u001b[32m591.0/591.0 kB\u001b[0m \u001b[31m15.3 MB/s\u001b[0m eta \u001b[36m0:00:00\u001b[0m\n",
            "\u001b[?25hRequirement already satisfied: packaging in /usr/local/lib/python3.10/dist-packages (from tensorflow_addons) (23.1)\n",
            "Collecting typeguard<3.0.0,>=2.7 (from tensorflow_addons)\n",
            "  Downloading typeguard-2.13.3-py3-none-any.whl (17 kB)\n",
            "Installing collected packages: typeguard, tensorflow_addons\n",
            "Successfully installed tensorflow_addons-0.20.0 typeguard-2.13.3\n"
          ]
        }
      ],
      "source": [
        "!pip install tensorflow_addons"
      ]
    },
    {
      "cell_type": "code",
      "execution_count": null,
      "metadata": {
        "id": "JgVAAUUhOXIt",
        "colab": {
          "base_uri": "https://localhost:8080/"
        },
        "outputId": "dd5ebfb9-3b30-4f97-edbc-df43f0164109"
      },
      "outputs": [
        {
          "output_type": "stream",
          "name": "stderr",
          "text": [
            "/usr/local/lib/python3.10/dist-packages/tensorflow_addons/utils/tfa_eol_msg.py:23: UserWarning: \n",
            "\n",
            "TensorFlow Addons (TFA) has ended development and introduction of new features.\n",
            "TFA has entered a minimal maintenance and release mode until a planned end of life in May 2024.\n",
            "Please modify downstream libraries to take dependencies from other repositories in our TensorFlow community (e.g. Keras, Keras-CV, and Keras-NLP). \n",
            "\n",
            "For more information see: https://github.com/tensorflow/addons/issues/2807 \n",
            "\n",
            "  warnings.warn(\n"
          ]
        }
      ],
      "source": [
        "import tensorflow_addons as tfa\n",
        "def custom_loss(y_true,y_pred):\n",
        "  #loss=tf.nn.sigmoid_cross_entropy_with_logits(y_true,y_pred)\n",
        "  sfc=tfa.losses.SigmoidFocalCrossEntropy()\n",
        "  loss=sfc(y_true,y_pred)\n",
        "  return loss\n"
      ]
    },
    {
      "cell_type": "code",
      "execution_count": null,
      "metadata": {
        "id": "y-6dD18aEOw8"
      },
      "outputs": [],
      "source": [
        "def custom_loss1(y_true, y_pred):\n",
        "    return binary_crossentropy(K.reshape(y_true[:,0],(-1,1)), y_pred) * y_true[:,1]"
      ]
    },
    {
      "cell_type": "code",
      "execution_count": null,
      "metadata": {
        "id": "xC1ScYznOAO-"
      },
      "outputs": [],
      "source": [
        "#bce=tf.nn.sigmoid_cross_entropy_with_logits( labels=None, logits=None, name=None)"
      ]
    },
    {
      "cell_type": "code",
      "execution_count": null,
      "metadata": {
        "id": "WxxK8G14dh0y"
      },
      "outputs": [],
      "source": [
        "#model.compile(loss='binary_crossentropy', optimizer=Adam(0.001),metrics=['accuracy','categorical_crossentropy','binary_accuracy'])\n",
        "model.compile(loss=custom_loss, optimizer=Adam(0.001),metrics=['accuracy','categorical_crossentropy','binary_accuracy'])"
      ]
    },
    {
      "cell_type": "code",
      "execution_count": null,
      "metadata": {
        "id": "0zGsnl7fdh04"
      },
      "outputs": [],
      "source": [
        "class Dataset:\n",
        "    def __init__(self,comp1,mask1):\n",
        "\n",
        "        self.sentence=comp1\n",
        "        self.labels=mask1\n",
        "\n",
        "\n",
        "    def __getitem__(self, i):\n",
        "        try:\n",
        "          comp=blubertpreprocess(self.sentence[i])\n",
        "          comp=np.asarray(comp)\n",
        "          comp=np.squeeze(comp,axis=0)\n",
        "          #comp=np.expand_dims(comp,axis=0)\n",
        "          label=self.labels[i]\n",
        "          tlabel=np.zeros(shape=(len(finalcodes),))\n",
        "          for i in range(len(label)):\n",
        "            tlabel[label[i]]=1\n",
        "\n",
        "          return comp,tlabel\n",
        "        except Exception as e:\n",
        "          print(\"exception\",e)\n",
        "          return None\n",
        "\n",
        "    def __len__(self):\n",
        "        return len(self.sentence)\n"
      ]
    },
    {
      "cell_type": "code",
      "execution_count": null,
      "metadata": {
        "colab": {
          "base_uri": "https://localhost:8080/",
          "height": 35
        },
        "id": "YOSOw5tndh05",
        "outputId": "81b07860-916e-4414-846d-fab272a836e8"
      },
      "outputs": [
        {
          "output_type": "execute_result",
          "data": {
            "text/plain": [
              "'#testing'"
            ],
            "application/vnd.google.colaboratory.intrinsic+json": {
              "type": "string"
            }
          },
          "metadata": {},
          "execution_count": 68
        }
      ],
      "source": [
        "import tensorflow as tf\n",
        "\n",
        "class Dataloder(tf.keras.utils.Sequence):\n",
        "    \"\"\"Load data from dataset and form batches\n",
        "\n",
        "    Args:\n",
        "        dataset: instance of Dataset class for image loading and preprocessing.\n",
        "        batch_size: Integet number of images in batch.\n",
        "        shuffle: Boolean, if `True` shuffle image indexes each epoch.\n",
        "    \"\"\"\n",
        "\n",
        "    def __init__(self, dataset, batch_size=1,shuffle=True):\n",
        "        self.dataset = dataset\n",
        "        self.batch_size = batch_size\n",
        "        self.shuffle = shuffle\n",
        "        self.indexes = np.arange(len(dataset))\n",
        "\n",
        "        self.on_epoch_end()\n",
        "\n",
        "\n",
        "    def __getitem__(self, i):\n",
        "        start = i * self.batch_size\n",
        "        stop = (i + 1) * self.batch_size\n",
        "        data = []\n",
        "        j=start\n",
        "        while j<stop:\n",
        "            a=self.dataset[j]\n",
        "            #print(a[0].shape,a[1].shape)\n",
        "            if a:\n",
        "             data.append(a)\n",
        "             j+=1\n",
        "            else:\n",
        "              print(\"exception\")\n",
        "              j+=1\n",
        "              stop+=1\n",
        "\n",
        "\n",
        "\n",
        "        batch = [np.stack(samples, axis=0) for samples in zip(*data)]\n",
        "\n",
        "        return tuple(batch)\n",
        "    def __len__(self):\n",
        "        \"\"\"Denotes the number of batches per epoch\"\"\"\n",
        "        return len(self.indexes) // self.batch_size\n",
        "\n",
        "    def on_epoch_end(self):\n",
        "        \"\"\"Callback function to shuffle indexes each epoch\"\"\"\n",
        "        if self.shuffle:\n",
        "            self.indexes = np.random.permutation(self.indexes)\n",
        "\n",
        "\"\"\"#testing\"\"\"\n"
      ]
    },
    {
      "cell_type": "code",
      "execution_count": null,
      "metadata": {
        "colab": {
          "base_uri": "https://localhost:8080/"
        },
        "id": "cWzIQUX7dh06",
        "outputId": "e988969e-04ee-4924-bca9-0984338ad568"
      },
      "outputs": [
        {
          "output_type": "stream",
          "name": "stderr",
          "text": [
            "/usr/local/lib/python3.10/dist-packages/sklearn/utils/_array_api.py:185: VisibleDeprecationWarning: Creating an ndarray from ragged nested sequences (which is a list-or-tuple of lists-or-tuples-or ndarrays with different lengths or shapes) is deprecated. If you meant to do this, you must specify 'dtype=object' when creating the ndarray.\n",
            "  array = numpy.asarray(array, order=order, dtype=dtype)\n"
          ]
        }
      ],
      "source": [
        "from sklearn.model_selection import train_test_split\n",
        "X_train, X_test,y_train, y_test=train_test_split(alldata[:],allcodes[:],test_size=0.2,stratify=allcodes[:])\n",
        "\n",
        "train_data= Dataset(\n",
        "  X_train,y_train\n",
        "\n",
        ")\n",
        "valid_data=Dataset(\n",
        "   X_test,y_test\n",
        "\n",
        "\n",
        ")\n",
        "train_dataloader= Dataloder(train_data, batch_size=6, shuffle=True)\n",
        "valid_dataloader=Dataloder(valid_data, batch_size=1, shuffle=False)"
      ]
    },
    {
      "cell_type": "code",
      "execution_count": null,
      "metadata": {
        "colab": {
          "base_uri": "https://localhost:8080/"
        },
        "id": "0xrCGBEjlnhL",
        "outputId": "56d6f62d-833b-4872-fd83-46061e0db467"
      },
      "outputs": [
        {
          "output_type": "stream",
          "name": "stderr",
          "text": [
            "Truncation was not explicitly activated but `max_length` is provided a specific value, please use `truncation=True` to explicitly truncate examples to max length. Defaulting to 'longest_first' truncation strategy. If you encode pairs of sequences (GLUE-style) with the tokenizer you can select this strategy more precisely by providing a specific strategy to `truncation`.\n",
            "/usr/local/lib/python3.10/dist-packages/transformers/tokenization_utils_base.py:2364: FutureWarning: The `pad_to_max_length` argument is deprecated and will be removed in a future version, use `padding=True` or `padding='longest'` to pad to the longest sequence in the batch, or use `padding='max_length'` to pad to a max length. In this case, you can give a specific length with `max_length` (e.g. `max_length=45`) or leave max_length to None to pad to the maximal input size of the model (e.g. 512 for Bert).\n",
            "  warnings.warn(\n"
          ]
        },
        {
          "output_type": "stream",
          "name": "stdout",
          "text": [
            "(6, 512)\n"
          ]
        }
      ],
      "source": [
        "for i in train_dataloader:\n",
        "  print(i[0].shape)\n",
        "  break"
      ]
    },
    {
      "cell_type": "code",
      "execution_count": null,
      "metadata": {
        "id": "HUHP4piydh06"
      },
      "outputs": [],
      "source": [
        "from keras.callbacks import ModelCheckpoint\n",
        "filepath=\"/content/drive/MyDrive/nlpproject/bluebert/bluebertmodel2{val_accuracy}\"\n",
        "\n",
        "checkpoint = ModelCheckpoint(filepath, monitor='val_accuracy', verbose=1, save_best_only=True, mode='max')\n",
        "\n",
        "# defining checkpointing variable\n",
        "callbacks_list = [checkpoint]"
      ]
    },
    {
      "cell_type": "code",
      "execution_count": null,
      "metadata": {
        "colab": {
          "base_uri": "https://localhost:8080/"
        },
        "id": "DFM9iI6rEHuQ",
        "outputId": "ac802493-d6d6-4e9e-e357-6bf241d5365a"
      },
      "outputs": [
        {
          "output_type": "stream",
          "name": "stdout",
          "text": [
            "(6, 512)\n"
          ]
        }
      ],
      "source": [
        "for i in train_dataloader:\n",
        "  print(i[0].shape)\n",
        "  break"
      ]
    },
    {
      "cell_type": "code",
      "execution_count": null,
      "metadata": {
        "id": "5i10C_wNQ1XC",
        "colab": {
          "base_uri": "https://localhost:8080/"
        },
        "outputId": "4f85a2be-28cf-4960-bcb9-39a0fe3a23d7"
      },
      "outputs": [
        {
          "output_type": "execute_result",
          "data": {
            "text/plain": [
              "<tensorflow.python.checkpoint.checkpoint.CheckpointLoadStatus at 0x7fb3df26cdc0>"
            ]
          },
          "metadata": {},
          "execution_count": 73
        }
      ],
      "source": [
        "model.load_weights('/content/drive/MyDrive/nlpproject/bluebert/AnnexureAmodel_41classes5')"
      ]
    },
    {
      "cell_type": "code",
      "execution_count": null,
      "metadata": {
        "id": "-yneAJTVdh06"
      },
      "outputs": [],
      "source": [
        "for i in range(10):\n",
        "    model.fit(train_dataloader, epochs = 1,validation_data=valid_dataloader)\n",
        "    tf.keras.saving.save_model(model,'/content/drive/MyDrive/nlpproject/bluebert/AnnexureAmodel_41classes{}'.format(i))\n"
      ]
    },
    {
      "cell_type": "code",
      "execution_count": null,
      "metadata": {
        "id": "UHNNJCoxD5PH"
      },
      "outputs": [],
      "source": [
        "from transformers import AutoModel,TFAutoModel\n",
        "from transformers import BertTokenizer, TFBertModel, BertConfig\n",
        "import tensorflow as tf\n",
        "from keras.layers import Input, Dense, Embedding, SpatialDropout1D, Dropout, add, concatenate\n",
        "from keras.layers import CuDNNLSTM, Bidirectional, GlobalMaxPooling1D, GlobalAveragePooling1D,LSTM\n",
        "#bbert_tokenizer = BertTokenizer.from_pretrained(\"bionlp/bluebert_pubmed_uncased_L-12_H-768_A-12\")\n",
        "input = tf.keras.layers.Input(shape=(512,),dtype='int32')\n",
        "outputs =bbertmodel(input)\n",
        "out=outputs[0]\n",
        "#x = Bidirectional(LSTM(512, return_sequences=True))(out)\n",
        "#x = Bidirectional(LSTM(512, return_sequences=True))(x)\n",
        "feat_conv1d=tf.keras.layers.Conv1D(200, 1, activation='relu')(out)\n",
        "feat_conv1d=tf.keras.layers.BatchNormalization()(feat_conv1d)\n",
        "max_pool_1d = tf.keras.layers.MaxPooling1D(pool_size=1,strides=1, padding='valid')(feat_conv1d)\n",
        "feat1_conv1d=tf.keras.layers.Conv1D(200, 1, activation='relu')(max_pool_1d)\n",
        "feat_conv1d=tf.keras.layers.BatchNormalization()(feat_conv1d)\n",
        "max1_pool_1d = tf.keras.layers.MaxPooling1D(pool_size=2,strides=2, padding='valid')(feat1_conv1d)\n",
        "ldrop_feat = tf.keras.layers.Dropout(0.1)(max1_pool_1d)\n",
        "flat=tf.keras.layers.Flatten()(ldrop_feat)\n",
        "output1=tf.keras.layers.Dense(256,activation='relu')(flat)\n",
        "output1=tf.keras.layers.BatchNormalization()(output1)\n",
        "output1 = tf.keras.layers.Dropout(0.1)(output1)\n",
        "output2=tf.keras.layers.Dense(128,activation='relu')(output1)\n",
        "output2 = tf.keras.layers.Dropout(0.1)(output2)\n",
        "output2=tf.keras.layers.BatchNormalization()(output2)\n",
        "\"\"\"output2=tf.keras.layers.Dense(128,activation='relu')(output2)\n",
        "output2 = tf.keras.layers.Dropout(0.1)(output2)\n",
        "output2=tf.keras.layers.BatchNormalization()(output2)\"\"\"\n",
        "finalout=tf.keras.layers.Dense(len(finalcodes),activation='sigmoid')(output2)\n",
        "model1 = Model(inputs=input, outputs=finalout)"
      ]
    },
    {
      "cell_type": "code",
      "execution_count": null,
      "metadata": {
        "id": "NbRirGakzVbY"
      },
      "outputs": [],
      "source": [
        "tf.keras.saving.save_model(model,'/content/drive/MyDrive/nlpproject/bluebert/nlptest_bidir_41classes')"
      ]
    },
    {
      "cell_type": "code",
      "execution_count": null,
      "metadata": {
        "id": "pe7FcGb3HDjz"
      },
      "outputs": [],
      "source": [
        "model.load_weights('/content/drive/MyDrive/nlpproject/bluebert/AnnexureAmodel_41classes1')"
      ]
    },
    {
      "cell_type": "code",
      "execution_count": null,
      "metadata": {
        "id": "ORdFzf-K-P4V"
      },
      "outputs": [],
      "source": [
        "model.summary()"
      ]
    },
    {
      "cell_type": "code",
      "execution_count": null,
      "metadata": {
        "id": "jvwlEHXkEDMO"
      },
      "outputs": [],
      "source": [
        "tf.keras.saving.load_model(model1,'/content/drive/MyDrive/nlpproject/bluebert/bluebertmodeltest2')"
      ]
    },
    {
      "cell_type": "code",
      "execution_count": null,
      "metadata": {
        "id": "PEzy27qHCRdz"
      },
      "outputs": [],
      "source": [
        "#testdata=pd.read_excel('/content/drive/MyDrive/nlpproject/goldentesta.xlsx')\n",
        "testdata=pd.read_csv('/content/drive/MyDrive/nlpproject/goldentesta.csv')"
      ]
    },
    {
      "cell_type": "code",
      "execution_count": null,
      "metadata": {
        "id": "DQ2z3H1qCW9v"
      },
      "outputs": [],
      "source": [
        "testdata.head()"
      ]
    },
    {
      "cell_type": "code",
      "execution_count": null,
      "metadata": {
        "id": "Bl89yvK3dh07"
      },
      "outputs": [],
      "source": [
        "\n",
        "testdata['codes1']=testdata['codes'].apply(lambda x:str(x).split(',')[0])\n",
        "\n",
        "tcodes=list(testdata['codes1'])\n",
        "tcomp=list(testdata['comp'])"
      ]
    },
    {
      "cell_type": "code",
      "execution_count": null,
      "metadata": {
        "id": "nD00ICeOdh07"
      },
      "outputs": [],
      "source": [
        "tcodes1=[]\n",
        "for i in range(len(tcodes)):\n",
        "  if tcodes[i] in hirexp_label:\n",
        "    tcodes1.append(gensublevels(tcodes[i]))"
      ]
    },
    {
      "cell_type": "code",
      "execution_count": null,
      "metadata": {
        "id": "687i1YM8dh08"
      },
      "outputs": [],
      "source": [
        "def checklevel(code):\n",
        "  code=str(code)\n",
        "  if len(code)==3:\n",
        "    return 1\n",
        "  elif len(code)==5:\n",
        "    return 2\n",
        "  else:\n",
        "    return 3"
      ]
    },
    {
      "cell_type": "code",
      "execution_count": null,
      "metadata": {
        "id": "PHBU4smvdh09"
      },
      "outputs": [],
      "source": [
        "def decode_preds(res,decodelabels):\n",
        "  ind = np.argpartition(res[0], -40)[-40:]\n",
        "  ind = ind[np.argsort(res[0][ind])]\n",
        "  t=[]\n",
        "  for i in range(len(ind)-1,-1,-1):\n",
        "    t.append(decodelabels[ind[i]])\n",
        "  visited=[]\n",
        "  for node in t:\n",
        "    if checklevel(node)==1:\n",
        "      visited.append(node)\n",
        "    elif checklevel(node)==2:\n",
        "      if node[:3] in visited:\n",
        "        visited.remove(node[:3])\n",
        "      visited.append(node)\n",
        "    elif checklevel(node)==3:\n",
        "      if node[:5] in visited:\n",
        "        visited.remove(node[:5])\n",
        "      if node[:3] in visited:\n",
        "        visited.remove(node[:3])\n",
        "      visited.append(node)\n",
        "  return visited[:6]"
      ]
    },
    {
      "cell_type": "code",
      "execution_count": null,
      "metadata": {
        "id": "ID89DcVtdh09"
      },
      "outputs": [],
      "source": [
        "results=[]\n",
        "gts=[]\n",
        "for i in range(len(tcomp)):\n",
        "  if tcodes[i] in finalcodes:\n",
        "    sent=blubertpreprocess(tcomp[i])\n",
        "    sent=np.asarray(sent)\n",
        "    #sent=np.expand_dims(sent,axis=0)\n",
        "    res=model.predict(sent)\n",
        "    ind = np.argpartition(res[0], -6)[-6:]\n",
        "    ind = ind[np.argsort(res[0][ind])]\n",
        "    t=[decodelabels[ind[-1]],decodelabels[ind[-2]],decodelabels[ind[-3]],decodelabels[ind[-4]],decodelabels[ind[-5]],decodelabels[ind[-6]]]\n",
        "    #t=decode_preds(res,decodelabels)\n",
        "    if tcodes[i] in t:\n",
        "       results.append(tcodes[i])\n",
        "    else:\n",
        "      results.append(t[-1])\n",
        "    gts.append(tcodes[i])\n",
        "    print(gts[-1],results[-1])"
      ]
    },
    {
      "cell_type": "code",
      "execution_count": null,
      "metadata": {
        "id": "0rG--sQktmYY"
      },
      "outputs": [],
      "source": [
        "\"\"\"results=[]\n",
        "gts=[]\n",
        "for i in range(len(tcomp)):\n",
        "  if tcodes[i] in hirexp_label :\n",
        "    sent=blubertpreprocess(tcomp[i])\n",
        "    sent=np.asarray(sent)\n",
        "    #sent=np.expand_dims(sent,axis=0)\n",
        "    res=model.predict(sent)\n",
        "    print(res)\n",
        "    preds=[]\n",
        "    t=[]\n",
        "    if len(t)!=0:\n",
        "      for j in range(len(res[0])):\n",
        "        if res[0][j]>0.5:\n",
        "          preds.append(j)\n",
        "          t.append(decodelabels[j])\n",
        "\n",
        "      if tcodes[i] in t:\n",
        "        results.append(tcodes[i])\n",
        "      else:\n",
        "        results.append(t[-1])\n",
        "    else:\n",
        "      results.append('unknown')\n",
        "    gts.append(tcodes[i])\n",
        "    print(gts[-1],results[-1])\"\"\""
      ]
    },
    {
      "cell_type": "code",
      "execution_count": null,
      "metadata": {
        "colab": {
          "base_uri": "https://localhost:8080/"
        },
        "id": "kB6rxGqqdh09",
        "outputId": "e6b754c2-3194-47f0-834c-0063e67c00ad"
      },
      "outputs": [
        {
          "output_type": "stream",
          "name": "stdout",
          "text": [
            "              precision    recall  f1-score   support\n",
            "\n",
            "         A02       0.50      1.00      0.67         1\n",
            "       A0201       0.94      0.89      0.92        19\n",
            "       A0204       0.67      1.00      0.80         2\n",
            "       A0205       0.60      1.00      0.75         3\n",
            "     A020501       0.00      0.00      0.00         0\n",
            "         A04       0.00      0.00      0.00         0\n",
            "       A0401       0.83      0.56      0.67         9\n",
            "       A0404       0.33      1.00      0.50         1\n",
            "       A0406       1.00      0.40      0.57         5\n",
            "       A0407       0.00      0.00      0.00         3\n",
            "       A0409       0.00      0.00      0.00         0\n",
            "         A05       0.00      0.00      0.00         1\n",
            "       A0503       1.00      1.00      1.00         2\n",
            "     A050301       0.67      0.67      0.67         3\n",
            "       A0504       1.00      0.67      0.80         3\n",
            "       A0507       0.00      0.00      0.00         1\n",
            "     A050702       0.00      0.00      0.00         1\n",
            "     A051104       0.00      0.00      0.00         0\n",
            "         A08       1.00      1.00      1.00         2\n",
            "       A0801       1.00      1.00      1.00         2\n",
            "         A09       0.00      0.00      0.00         0\n",
            "       A0902       0.83      1.00      0.91         5\n",
            "         A11       1.00      1.00      1.00         1\n",
            "       A1104       0.71      1.00      0.83         5\n",
            "         A13       0.50      1.00      0.67         1\n",
            "         A14       1.00      0.50      0.67         2\n",
            "     A141401       0.00      0.00      0.00         0\n",
            "     A150101       0.00      0.00      0.00         3\n",
            "         A18       1.00      1.00      1.00         2\n",
            "       A1801       1.00      0.62      0.77         8\n",
            "       A2201       1.00      0.50      0.67         2\n",
            "         A24       0.96      0.96      0.96        28\n",
            "\n",
            "    accuracy                           0.77       115\n",
            "   macro avg       0.55      0.56      0.53       115\n",
            "weighted avg       0.83      0.77      0.78       115\n",
            "\n"
          ]
        },
        {
          "output_type": "stream",
          "name": "stderr",
          "text": [
            "/usr/local/lib/python3.10/dist-packages/sklearn/metrics/_classification.py:1344: UndefinedMetricWarning: Precision and F-score are ill-defined and being set to 0.0 in labels with no predicted samples. Use `zero_division` parameter to control this behavior.\n",
            "  _warn_prf(average, modifier, msg_start, len(result))\n",
            "/usr/local/lib/python3.10/dist-packages/sklearn/metrics/_classification.py:1344: UndefinedMetricWarning: Recall and F-score are ill-defined and being set to 0.0 in labels with no true samples. Use `zero_division` parameter to control this behavior.\n",
            "  _warn_prf(average, modifier, msg_start, len(result))\n",
            "/usr/local/lib/python3.10/dist-packages/sklearn/metrics/_classification.py:1344: UndefinedMetricWarning: Precision and F-score are ill-defined and being set to 0.0 in labels with no predicted samples. Use `zero_division` parameter to control this behavior.\n",
            "  _warn_prf(average, modifier, msg_start, len(result))\n",
            "/usr/local/lib/python3.10/dist-packages/sklearn/metrics/_classification.py:1344: UndefinedMetricWarning: Recall and F-score are ill-defined and being set to 0.0 in labels with no true samples. Use `zero_division` parameter to control this behavior.\n",
            "  _warn_prf(average, modifier, msg_start, len(result))\n",
            "/usr/local/lib/python3.10/dist-packages/sklearn/metrics/_classification.py:1344: UndefinedMetricWarning: Precision and F-score are ill-defined and being set to 0.0 in labels with no predicted samples. Use `zero_division` parameter to control this behavior.\n",
            "  _warn_prf(average, modifier, msg_start, len(result))\n",
            "/usr/local/lib/python3.10/dist-packages/sklearn/metrics/_classification.py:1344: UndefinedMetricWarning: Recall and F-score are ill-defined and being set to 0.0 in labels with no true samples. Use `zero_division` parameter to control this behavior.\n",
            "  _warn_prf(average, modifier, msg_start, len(result))\n"
          ]
        }
      ],
      "source": [
        "from sklearn.metrics import classification_report\n",
        "print(classification_report(gts,results))"
      ]
    },
    {
      "cell_type": "code",
      "execution_count": null,
      "metadata": {
        "id": "PRShXq0dKThl"
      },
      "outputs": [],
      "source": [
        "gts,results\n",
        "for i in range(len(gts)):\n"
      ]
    },
    {
      "cell_type": "code",
      "execution_count": null,
      "metadata": {
        "id": "52BjAuEXJXDT"
      },
      "outputs": [],
      "source": [
        "from sklearn.metrics import confusion_matrix\n",
        "print(confusion_matrix (gts,results))"
      ]
    },
    {
      "cell_type": "code",
      "execution_count": null,
      "metadata": {
        "id": "TGRwkgjOc4bl"
      },
      "outputs": [],
      "source": [
        "sentence1[0],code1[0]"
      ]
    },
    {
      "cell_type": "code",
      "execution_count": null,
      "metadata": {
        "id": "Adq7oeFrplwg"
      },
      "outputs": [],
      "source": [
        "resultcomp=[]\n",
        "resultgt=[]\n",
        "resultpred=[]\n",
        "for i in range(len(tcomp)):\n",
        "  if tcodes[i] in ['A141401'] :\n",
        "    resultcomp.append(tcomp[i])\n",
        "    sent=blubertpreprocess(tcomp[i])\n",
        "    #print(sent)\n",
        "    sent=np.asarray(sent)\n",
        "    #sent=np.expand_dims(sent,axis=0)\n",
        "    res=model.predict(sent)\n",
        "    ind = np.argpartition(res[0], -20)[-20:]\n",
        "    ind = ind[np.argsort(res[0][ind])]\n",
        "    t=[decodelabels[ind[-1]],decodelabels[ind[-2]],decodelabels[ind[-3]],decodelabels[ind[-4]],decodelabels[ind[-5]],decodelabels[ind[-6]]]\n",
        "    #t=decode_preds(res,decodelabels)\n",
        "    if tcodes[i] in t:\n",
        "       resultpred.append(tcodes[i])\n",
        "    else:\n",
        "      resultpred.append(t[-1])\n",
        "    resultgt.append(tcodes[i])\n",
        "\n",
        "    print(tcomp[i],resultgt[-1],resultpred[-1],t)"
      ]
    },
    {
      "cell_type": "code",
      "execution_count": null,
      "metadata": {
        "id": "HwIVy7-Qdeg2"
      },
      "outputs": [],
      "source": [
        "tsent1=list(testdf1['comp'])\n",
        "tcode1=list(testdf1['codes'])"
      ]
    },
    {
      "cell_type": "code",
      "execution_count": null,
      "metadata": {
        "colab": {
          "base_uri": "https://localhost:8080/",
          "height": 1000
        },
        "id": "ixjSEQszdBz4",
        "outputId": "15c80d2d-751d-4a28-d081-a5a03b4aad5e"
      },
      "outputs": [
        {
          "output_type": "stream",
          "name": "stdout",
          "text": [
            "1/1 [==============================] - 0s 96ms/step\n",
            "INFORMATION WAS RECEIVED FROM SERVICE AND REPAIR VIA MANUFACTURER REPRESENTATIVE REGARDING A DEVICE USED FOR SPINAL THERAPY. IT WAS REPORTED THAT DEVICE WAS CLOUDY. THERE WERE NO FURTHER COMPLICATIONS REPORTED REGARDING THE EVENT. UPDATE: PROCEDURE INVOLVED : MED THE PRODUCT CAME IN CONTACT WITH THE PATIENT. THERE WERE NO PATIENT SYMPTOMS REPORTED. Manufacturer Narrative: PRODUCT ANALYSIS #705010393: DAMAGE TO THE TIP LENS WAS CONFIRMED DURING THE INSPECTION.  IF INFORMATION IS PROVIDED IN THE FUTURE, A SUPPLEMENTAL REPORT WILL BE ISSUED. A0409 A0409 ['A0409', 'A04', 'A0404', 'A0407', 'A0201', 'A0406']\n",
            "1/1 [==============================] - 0s 101ms/step\n",
            "ON (B)(6) 2011 RAYNER RECEIVED INITIAL COMMUNICATION FROM MR. ROMAIN DECOCK (VIA MRS. (B)(6)) EXPLAINING THAT FOLLOWING CORNEAL ENDOTHELIAL GRAFT SURGERY THREE SUSPECTED CASES OF OPACIFICATION HAD BEEN OBSERVED IN PATIENTS THOUGHT TO BE FITTED WITH RAYNER IOLS. A0409 A0409 ['A0409', 'A04', 'A0407', 'A0404', 'A0406', 'A2201']\n",
            "1/1 [==============================] - 0s 93ms/step\n",
            "Irritation A0409 A0201 ['A24', 'A18', 'A1801', 'A0406', 'A04', 'A0201']\n",
            "1/1 [==============================] - 0s 102ms/step\n",
            "Consumer states the lenses begin to irritate his eye after about 2 hours of wear. When he removed the lens, he noticed there was a small spot towards the center of the lens that   developed a cloudy film on it. Consumer states he experienced this with 3 lenses from his 6 pack. Consumer discarded 2 of the defective lenses, he has one to return. He stated he used the Clear Care to try and clean his lenses, it did not remove the cloudy film A0409 A0409 ['A0409', 'A04', 'A0404', 'A0407', 'A0406', 'A0201']\n",
            "1/1 [==============================] - 0s 86ms/step\n",
            "Sales rep calling on behalf ot Dr. Mark Schwartz from the ECP office who states a patient reported some of the lenses from their six pack have been cloudy. The sales rep was not provided with the number of lenses the patient experienced this issue with. Will reach out to the ECP office to obtain more information. A0409 A0409 ['A0409', 'A04', 'A0404', 'A0406', 'A0407', 'A2201']\n",
            "1/1 [==============================] - 0s 100ms/step\n",
            "customer is using Ultra multifocal for astigmatism, but find that they turn grey/cloudy after about a week of use. They are currently using Easysept to clean the lenses. Related case: VC-2021-18341 A0409 A0409 ['A0409', 'A04', 'A0404', 'A0406', 'A0407', 'A0504']\n",
            "1/1 [==============================] - 0s 88ms/step\n",
            "After inserting about 120 lenses his vision was blurry. Consumer has about 80 unopened lenses. Consumer will be using the unopened lenses until replacements arrive. A0409 A0409 ['A0409', 'A04', 'A0404', 'A0407', 'A2201', 'A22']\n",
            "1/1 [==============================] - 0s 91ms/step\n",
            "customer is usingUltra multifocal for astigmatism, but find that they turn grey/cloudy after about a week of use. They are currently using Easysept to clean the lenses. Related case:VC-2021-18537 A0409 A0409 ['A0409', 'A04', 'A0404', 'A0406', 'A0407', 'A0504']\n",
            "1/1 [==============================] - 0s 96ms/step\n",
            "The consumer wrote: \"I have purchased a Renu Multi-purpose solution 240ml.  It is very milky and has caused severe pain to my eyes.  I have also purchased new contact lenses and also used this solution but it burns my eyes, leaving a burning and uneasy in my eyes, has left me with sore eyes...feels as if there are stones in my eyes.  I have it with me should you require any pictures…\" A0409 A0409 ['A0409', 'A04', 'A0406', 'A0404', 'A0407', 'A22']\n",
            "1/1 [==============================] - 0s 89ms/step\n",
            "Lenses are cloudy after use of product.  This case is not reportable in Taiwan. Kelly Lin 28-Dec-2021 A0409 A0409 ['A0409', 'A04', 'A0404', 'A0406', 'A0407', 'A2201']\n",
            "1/1 [==============================] - 0s 91ms/step\n",
            "OD GP lens is cloudy- Lisa returning lens for lab evaluation. A0409 A0409 ['A0409', 'A04', 'A0201', 'A02', 'A0407', 'A2201']\n",
            "1/1 [==============================] - 0s 95ms/step\n",
            "Consumer made a complaint via Facebook stating the following:    Hello - I have been using your products - the Advance Boston cleaner and conditioning solutions for over 30 years. Since your product recall in May I have used your Simplus solution instead which I do not find nearly as good and I get 'clouding' with my vision. Can you please tell me when the Boston solutions will be available again - I am getting rather desperate! A0409 A0409 ['A0409', 'A04', 'A0404', 'A0406', 'A0407', 'A24']\n",
            "1/1 [==============================] - 0s 86ms/step\n",
            "OU lenses cloudy. Patient states lenses are cloudy and she can't see out of them very well. Christine is returning lenses for lab evaluation. A0409 A0409 ['A0409', 'A04', 'A0404', 'A0406', 'A0407', 'A0504']\n",
            "1/1 [==============================] - 0s 97ms/step\n",
            "Lens clouding up A0409 A0409 ['A0409', 'A04', 'A0406', 'A0407', 'A0404', 'A2201']\n",
            "1/1 [==============================] - 0s 92ms/step\n",
            "Consumer said 11 of her left eye lenses would become \"foggy\" after a week of wear. She would throw the lens out, and insert a new lens. She has one unopened blister remaining, and the current lens in her eye which is becoming foggy to return. A0409 A0409 ['A0409', 'A04', 'A24', 'A0406', 'A0404', 'A0407']\n",
            "1/1 [==============================] - 0s 87ms/step\n",
            "The consumer said that after a week of using the lenses, the lenses became cloudy. The consumer said that this made it difficult to see. <Not reportable in Japan as per SOP BLJ12-007 (assessed by Tomoko. Takenaka 10-Oct-2021)> A0409 A0409 ['A0409', 'A24', 'A04', 'A0406', 'A0404', 'A0201']\n",
            "1/1 [==============================] - 0s 90ms/step\n",
            "Customer tried numerous products in the absence of the Boston Advance Cleaner and none of them has come close to this. When he uses any other product - he gets hazy cloudy film over the lenses. Customer asked for advise on the supply of the Boston Advance Cleaner. A0409 A22 ['A1501', 'A11', 'A0205', 'A1104', 'A14', 'A22']\n",
            "1/1 [==============================] - 0s 87ms/step\n",
            "customer called px is finding that the lens is fogging up  when optom looked at lens under slit lamp she saw what looked like polishing marks A0409 A0201 ['A02', 'A04', 'A0401', 'A0206', 'A24', 'A0201']\n",
            "1/1 [==============================] - 0s 83ms/step\n",
            "Consumer complained the lenses look clody and mily on the surface. The consumer tried to clean the lens with lens care solution. The lens was still milky. The consumer discarded the defective lenses without 1 opened lens. so remaining 15 lens and 1 defective lens will be returned.  This case is not reportable in Korea as per assessment criteria in SMP 001-04.  (Assessment performed by Miyoung Kim on 11 Jan 2022). A0409 A0409 ['A0409', 'A04', 'A0404', 'A0407', 'A0406', 'A2201']\n",
            "1/1 [==============================] - 0s 105ms/step\n",
            "nan A0409 A0401 ['A24', 'A04', 'A0406', 'A02', 'A0201', 'A0401']\n",
            "1/1 [==============================] - 0s 94ms/step\n",
            "I have been wearing your company's Quantum2 for years. In early 2021 I bought a pair of new ones from my optician. After a short time, the lenses became cloudy after wearing them for about 10 min. My optician thought I was using the wrong cleaning agent (which I have also been using for years) and gave me Top1 and Top2 from Optosol and a basic cleaner (Progent) - unfortunately without success. Before insertion, I have been using a drop of Hylocare for a long time on the advice of the ophthalmologist. Now I ordered a new set of lenses from Volens because I thought the old cleaner had damaged the lenses. Also with these lenses, which I treated only with the new cleaner, the same phenomenon - after 10 min I am \"in the fog\". Before the winter vacation I started again an attempt and ordered me the 3rd set of lenses - with the same effect. On Friday I went to the ophthalmologist to clarify whether it is due to the eye, everything is fine. She gave me a cleaner of Woelk with - helped also nix - momentarily I carry on the right an Uraltlinse (approx. 10 J. which mark I do not know more) with which I have no problems and on the left I stand - as already mentioned - in the fog. In the meantime I have spent 200.00 EUR at the optician and 320.00 EUR at Volens, because it is cheaper, plus costs for cleaner approx. 80.00 EUR. I now urgently ask for clarification of the situation and will also gladly send you the lenses for inspection. Unfortunately I only have 5 left, because I lost one. I would like to note that I have been wearing contact lenses since I was 16 years old and today I am over 60 - so I am not a newcomer and pretty much at the end of my tether. Since I work as a dental hygienist on patients, I can wear glasses only conditionally - already because of the corona protection measures. With urgent request for timely feedback I remain with kind regards    Translated with www.DeepL.com/Translator (free version) A0409 A0409 ['A0409', 'A04', 'A0407', 'A0404', 'A0406', 'A1414']\n",
            "1/1 [==============================] - 0s 93ms/step\n",
            "Consumer states she doesn't wear the lens daily but she's worn this lens only three times and it's now cloudy. A0409 A0409 ['A0409', 'A04', 'A0404', 'A0407', 'A0406', 'A2201']\n",
            "1/1 [==============================] - 0s 90ms/step\n",
            "Consumer stated that 4 of her son's lenses became cloudy after 2 months of wear for each lens.  Consumer stated her ECP advised her that he should not wear them and to reach out to us. A0409 A0409 ['A0409', 'A04', 'A0404', 'A0406', 'A0407', 'A0504']\n",
            "1/1 [==============================] - 0s 82ms/step\n",
            "Patient experienced 2 lenses becoming cloudy within a couple of weeks - will return for inspection. A0409 A0409 ['A0409', 'A04', 'A0404', 'A0406', 'A0407', 'A15']\n",
            "1/1 [==============================] - 0s 88ms/step\n",
            "Lens opacification was reported. The lens was implanted on Aug/2010. The lens remains implanted.  <Not reportable in Japan as per SOP BLJ12-007 (assessed by Tomoko. Takenaka 18-Feb-2022)> A0409 A0409 ['A04', 'A0409', 'A0404', 'A0406', 'A24', 'A0407']\n",
            "1/1 [==============================] - 0s 84ms/step\n",
            "Lens opacification due to presumed calcification. The lens remains implanted. Date of implant was year of 2001. <Not reportable in Japan as per SOP BLJ12-007 (assessed by Tomoko. Takenaka & Feb/18/2022)>    Additional information was received on 8-Mar-2022.  The lens will be explanted on 11 or 18 or 25 Apr 2022.  This case was assessed as serious and reportable in Japan. The report due date is 7 Apr 2022.    03/29/2022 Additional Information Received:   Email received from Japanese Affiliate provides the planned explant surgery date is 04/11/2022.    04/25/2022 Additional Information Received:  Email from Japanese affiliate provides the lens was received on 04/15/2022 and will be shipped to the US after 05/09/2022.    06/27/2022 Additional Information Received:  Email from Japanese affiliate provides around 2001 the IOL was implanted in the left eye.  Poor vision 12-Sep-2007, poor vision and reduced visibility of the funds, and lens opacification possibly due to calcification was observed. 11-Apr-2022, the patient underwent lens explant surgery and was implanted a new replacement IOL by suturing fixation. VA was 0.9 at the time of diagnosis. The patient’s preoperative VA was hand movement and post operative VA was 0.6.  The operation was day surgery. A0409 A0409 ['A0409', 'A04', 'A0407', 'A0406', 'A2201', 'A0404']\n",
            "1/1 [==============================] - 0s 89ms/step\n",
            "Consumer called stating after she uses the product, her lenses are cloudy. She states the lenses became almost a milky white. She asked if she could use water on the lenses. Advised to use Conditioning Solution per the directions or use Saline Solution. She could not confirm which gas permeable lenses she wears. Consumer does not want to return the product because she will continue to use the product. Between ripping open the box and poor vision she could only provide the expiration date. She wishes the instructions were in a larger print to make it easier to read since she has poor vision. A0409 A0409 ['A04', 'A0409', 'A24', 'A0404', 'A0401', 'A0407']\n",
            "1/1 [==============================] - 0s 96ms/step\n",
            "Consumer called on behalf of her son to ask if there is any other way to clean the Silsoft lens. She reports the lens is cloudy. Advised Equate Multi-purpose solution is approved to clean the lens and she is using that solution. A0409 A0409 ['A0409', 'A04', 'A24', 'A2201', 'A22', 'A0406']\n",
            "1/1 [==============================] - 0s 87ms/step\n",
            "Consumer states that six lenses became cloudy after about a week in addition the lenses tore in the area of the cloudiness. The consumer has two lenses to return. A0409 A0205 ['A1501', 'A22', 'A11', 'A1104', 'A14', 'A0205']\n",
            "1/1 [==============================] - 0s 86ms/step\n",
            "The consumer bought the new lens and wore the lens. Then, the lens itself became cloudy. The consumer visited an eye clinic and the lens was cleaned. The consumer wore the lens again and the same thing happened again.  <Not reportable in Japan as per SOP BLJ12-007 assessed by M.Motomura 17-Mar-2022> A0409 A0409 ['A0409', 'A04', 'A0404', 'A0406', 'A0407', 'A2201']\n",
            "1/1 [==============================] - 0s 87ms/step\n",
            "Consumer called asking which products can be used for gas permeable lenses. Directed her to the Boston line. She states that after using the Boston Simplus on 2 lenses, one lens is now cloudy and cannot see out of it. Did not offer a refund as she has used almost all of the product and there is very little remaining. I did let her know that if we have coupons in the future we would be happy to mail some to her. A0409 A0409 ['A0409', 'A04', 'A0404', 'A0407', 'A0406', 'A2201']\n",
            "1/1 [==============================] - 0s 95ms/step\n",
            "Consumer states after she used the Boston Advanced conditioning solution and cleaner her lenses developed a \"gummy like\" film on them. She also states she experienced the same issue after using the Boston Simplus Multi-Action solution as well. Consumer is unable to provide lot and expiration information because she discarded all 3 products.    Related sales force case file # 01575168 and 01575170 A0409 A0409 ['A0409', 'A04', 'A0406', 'A0404', 'A0407', 'A2201']\n",
            "1/1 [==============================] - 0s 87ms/step\n",
            "Consumer states after she used the Boston Advanced conditioning solution and cleaner her lenses developed a \"gummy like\" film on them. She also states she experienced the same issue after using the Boston Simplus Multi-Action solution as well. Consumer is unable to provide lot and expiration information because she discarded all 3 products.    Related sales force case file #01575141 and 01575170 A0409 A0409 ['A0409', 'A04', 'A0406', 'A0404', 'A0407', 'A2201']\n",
            "1/1 [==============================] - 0s 99ms/step\n",
            "Consumer has used the product for years, but within a couple weeks of using her current bottle her eyes began to feel irritated and her vision has become cloudy. She also states she now has floaters in her eyes. A0409 A0409 ['A0409', 'A24', 'A04', 'A0406', 'A2201', 'A0201']\n",
            "1/1 [==============================] - 0s 84ms/step\n",
            "Consumer states after she used the Boston Advanced conditioning solution and cleaner her lenses developed a \"gummy like\" film on them. She also states she experienced the same issue after using the Boston Simplus Multi-Action solution as well. Consumer is unable to provide lot and expiration information because she discarded all 3 products.    Related sales force case file # 01575168 and 01575170 A0409 A0409 ['A0409', 'A04', 'A0406', 'A0404', 'A0407', 'A2201']\n",
            "1/1 [==============================] - 0s 94ms/step\n",
            "Consumer states after she used the Boston Advanced conditioning solution and cleaner her lenses developed a \"gummy like\" film on them. She also states she experienced the same issue after using the Boston Simplus Multi-Action solution as well. Consumer is unable to provide lot and expiration information because she discarded all 3 products.    Related sales force case file #01575141 and 01575170 A0409 A0409 ['A0409', 'A04', 'A0406', 'A0404', 'A0407', 'A2201']\n",
            "1/1 [==============================] - 0s 85ms/step\n",
            "Consumer states after she used the Boston Advanced conditioning solution and cleaner her lenses developed a \"gummy like\" film on them. She also states she experienced the same issue after using the Boston Simplus Multi-Action solution as well. Consumer is unable to provide lot and expiration information because she discarded all 3 products.    Related sales force case file# 01575141 and 01575168 A0409 A0409 ['A0409', 'A04', 'A0406', 'A0404', 'A0407', 'A2201']\n",
            "1/1 [==============================] - 0s 86ms/step\n",
            "During the use of a universal lens solution for a week, \"lumps\" formed on the lenses, these \"lumps\" are not removed. Also, after storing lenses in this solution for a week, clouding of the lenses was revealed. A0409 A0409 ['A0409', 'A04', 'A24', 'A0406', 'A0404', 'A0407']\n",
            "1/1 [==============================] - 0s 94ms/step\n",
            "Patient had worn right lens for about 2 weeks and now experiencing an area that is now has a cloudy/foggy appearance. Will return for evaluation A0409 A0409 ['A0409', 'A04', 'A0406', 'A2201', 'A0407', 'A0404']\n",
            "1/1 [==============================] - 0s 85ms/step\n",
            "Email from rep:    I received a complaint from account #: 0060002562     Patient Name: n/a  Patient Rx: OD -7.00x-0.75x010  OS -7.50x-1.75x160  Original order ref #: invoice #9207590133  Product Lot #’s: LOT # R02176868 EXP 2025-12-15 and LOT#R12170664 EXP 2026-09-11  Product: ULTRA Toric   Event: From Beth - “I have a patient that purchased a 6 month supply of Ultra for Astig on Feb 22/22. She has gone through the entire supply as they were clouding over on her. She thought maybe it was just 1 defective pair but the entire supply was doing that with in a very short time of wearing them. I told her to bring the remaining contacts back but by the time we could see her she had tried a couple more pairs because she didn't have her glasses yet. How can I get a credit for these contacts? She is trying a different brand.”  Reporter: Beth F.  Clinic of Reporter: Clarity Vision Centre – Portage la Prairie  Date Reported: March 22, 2022  Clinic Account #: 0060002562  Clinic Phone: 1-204-239-2020     They’ve asked that they be credited in full for the order due to the defective supply, as they will try the patient in another brand – can you apply this to their account please?  (Clinic Account #: 0060002562/Invoice #9207590133) A0409 A0409 ['A04', 'A0409', 'A0404', 'A0407', 'A05', 'A0201']\n",
            "1/1 [==============================] - 0s 93ms/step\n",
            "OU lenses are cloudy. Patient wore for less than 1 week. Pam returning lenses for lab evaluation. A0409 A0409 ['A0409', 'A04', 'A0404', 'A0406', 'A2201', 'A0407']\n",
            "1/1 [==============================] - 0s 79ms/step\n",
            "Consumer called to ask where she can purchase Sensitive eyes saline solution. She mentioned that she wears GP lenses, she could not confirm which brand. Since October 2021 her lenses get cloudy after a few hours of wear. She uses Boston Simplus and has also tried the Boston Conditioning solution. She will remove the lens and clean them and states it does help once she reinserts the lens. Her doctor has ordered her new lenses in the last few months and the same thing is occurring, she mentioned that she is using water to rinse her lenses and has for years. She is not sure what could be causing the cloudy film on her lenses. The consumer declined returning both bottles, she will continue to use them.    Related sales force case-1578363 A0409 A0409 ['A0409', 'A04', 'A0201', 'A02', 'A0404', 'A0407']\n"
          ]
        },
        {
          "output_type": "error",
          "ename": "KeyboardInterrupt",
          "evalue": "ignored",
          "traceback": [
            "\u001b[0;31m---------------------------------------------------------------------------\u001b[0m",
            "\u001b[0;31mKeyboardInterrupt\u001b[0m                         Traceback (most recent call last)",
            "\u001b[0;32m<ipython-input-180-293aa208c51a>\u001b[0m in \u001b[0;36m<cell line: 4>\u001b[0;34m()\u001b[0m\n\u001b[1;32m      9\u001b[0m     \u001b[0msent\u001b[0m\u001b[0;34m=\u001b[0m\u001b[0mnp\u001b[0m\u001b[0;34m.\u001b[0m\u001b[0masarray\u001b[0m\u001b[0;34m(\u001b[0m\u001b[0msent\u001b[0m\u001b[0;34m)\u001b[0m\u001b[0;34m\u001b[0m\u001b[0;34m\u001b[0m\u001b[0m\n\u001b[1;32m     10\u001b[0m     \u001b[0;31m#sent=np.expand_dims(sent,axis=0)\u001b[0m\u001b[0;34m\u001b[0m\u001b[0;34m\u001b[0m\u001b[0m\n\u001b[0;32m---> 11\u001b[0;31m     \u001b[0mres\u001b[0m\u001b[0;34m=\u001b[0m\u001b[0mmodel\u001b[0m\u001b[0;34m.\u001b[0m\u001b[0mpredict\u001b[0m\u001b[0;34m(\u001b[0m\u001b[0msent\u001b[0m\u001b[0;34m)\u001b[0m\u001b[0;34m\u001b[0m\u001b[0;34m\u001b[0m\u001b[0m\n\u001b[0m\u001b[1;32m     12\u001b[0m     \u001b[0mind\u001b[0m \u001b[0;34m=\u001b[0m \u001b[0mnp\u001b[0m\u001b[0;34m.\u001b[0m\u001b[0margpartition\u001b[0m\u001b[0;34m(\u001b[0m\u001b[0mres\u001b[0m\u001b[0;34m[\u001b[0m\u001b[0;36m0\u001b[0m\u001b[0;34m]\u001b[0m\u001b[0;34m,\u001b[0m \u001b[0;34m-\u001b[0m\u001b[0;36m20\u001b[0m\u001b[0;34m)\u001b[0m\u001b[0;34m[\u001b[0m\u001b[0;34m-\u001b[0m\u001b[0;36m20\u001b[0m\u001b[0;34m:\u001b[0m\u001b[0;34m]\u001b[0m\u001b[0;34m\u001b[0m\u001b[0;34m\u001b[0m\u001b[0m\n\u001b[1;32m     13\u001b[0m     \u001b[0mind\u001b[0m \u001b[0;34m=\u001b[0m \u001b[0mind\u001b[0m\u001b[0;34m[\u001b[0m\u001b[0mnp\u001b[0m\u001b[0;34m.\u001b[0m\u001b[0margsort\u001b[0m\u001b[0;34m(\u001b[0m\u001b[0mres\u001b[0m\u001b[0;34m[\u001b[0m\u001b[0;36m0\u001b[0m\u001b[0;34m]\u001b[0m\u001b[0;34m[\u001b[0m\u001b[0mind\u001b[0m\u001b[0;34m]\u001b[0m\u001b[0;34m)\u001b[0m\u001b[0;34m]\u001b[0m\u001b[0;34m\u001b[0m\u001b[0;34m\u001b[0m\u001b[0m\n",
            "\u001b[0;32m/usr/local/lib/python3.10/dist-packages/keras/utils/traceback_utils.py\u001b[0m in \u001b[0;36merror_handler\u001b[0;34m(*args, **kwargs)\u001b[0m\n\u001b[1;32m     63\u001b[0m         \u001b[0mfiltered_tb\u001b[0m \u001b[0;34m=\u001b[0m \u001b[0;32mNone\u001b[0m\u001b[0;34m\u001b[0m\u001b[0;34m\u001b[0m\u001b[0m\n\u001b[1;32m     64\u001b[0m         \u001b[0;32mtry\u001b[0m\u001b[0;34m:\u001b[0m\u001b[0;34m\u001b[0m\u001b[0;34m\u001b[0m\u001b[0m\n\u001b[0;32m---> 65\u001b[0;31m             \u001b[0;32mreturn\u001b[0m \u001b[0mfn\u001b[0m\u001b[0;34m(\u001b[0m\u001b[0;34m*\u001b[0m\u001b[0margs\u001b[0m\u001b[0;34m,\u001b[0m \u001b[0;34m**\u001b[0m\u001b[0mkwargs\u001b[0m\u001b[0;34m)\u001b[0m\u001b[0;34m\u001b[0m\u001b[0;34m\u001b[0m\u001b[0m\n\u001b[0m\u001b[1;32m     66\u001b[0m         \u001b[0;32mexcept\u001b[0m \u001b[0mException\u001b[0m \u001b[0;32mas\u001b[0m \u001b[0me\u001b[0m\u001b[0;34m:\u001b[0m\u001b[0;34m\u001b[0m\u001b[0;34m\u001b[0m\u001b[0m\n\u001b[1;32m     67\u001b[0m             \u001b[0mfiltered_tb\u001b[0m \u001b[0;34m=\u001b[0m \u001b[0m_process_traceback_frames\u001b[0m\u001b[0;34m(\u001b[0m\u001b[0me\u001b[0m\u001b[0;34m.\u001b[0m\u001b[0m__traceback__\u001b[0m\u001b[0;34m)\u001b[0m\u001b[0;34m\u001b[0m\u001b[0;34m\u001b[0m\u001b[0m\n",
            "\u001b[0;32m/usr/local/lib/python3.10/dist-packages/keras/engine/training.py\u001b[0m in \u001b[0;36mpredict\u001b[0;34m(self, x, batch_size, verbose, steps, callbacks, max_queue_size, workers, use_multiprocessing)\u001b[0m\n\u001b[1;32m   2380\u001b[0m                     \u001b[0;32mfor\u001b[0m \u001b[0mstep\u001b[0m \u001b[0;32min\u001b[0m \u001b[0mdata_handler\u001b[0m\u001b[0;34m.\u001b[0m\u001b[0msteps\u001b[0m\u001b[0;34m(\u001b[0m\u001b[0;34m)\u001b[0m\u001b[0;34m:\u001b[0m\u001b[0;34m\u001b[0m\u001b[0;34m\u001b[0m\u001b[0m\n\u001b[1;32m   2381\u001b[0m                         \u001b[0mcallbacks\u001b[0m\u001b[0;34m.\u001b[0m\u001b[0mon_predict_batch_begin\u001b[0m\u001b[0;34m(\u001b[0m\u001b[0mstep\u001b[0m\u001b[0;34m)\u001b[0m\u001b[0;34m\u001b[0m\u001b[0;34m\u001b[0m\u001b[0m\n\u001b[0;32m-> 2382\u001b[0;31m                         \u001b[0mtmp_batch_outputs\u001b[0m \u001b[0;34m=\u001b[0m \u001b[0mself\u001b[0m\u001b[0;34m.\u001b[0m\u001b[0mpredict_function\u001b[0m\u001b[0;34m(\u001b[0m\u001b[0miterator\u001b[0m\u001b[0;34m)\u001b[0m\u001b[0;34m\u001b[0m\u001b[0;34m\u001b[0m\u001b[0m\n\u001b[0m\u001b[1;32m   2383\u001b[0m                         \u001b[0;32mif\u001b[0m \u001b[0mdata_handler\u001b[0m\u001b[0;34m.\u001b[0m\u001b[0mshould_sync\u001b[0m\u001b[0;34m:\u001b[0m\u001b[0;34m\u001b[0m\u001b[0;34m\u001b[0m\u001b[0m\n\u001b[1;32m   2384\u001b[0m                             \u001b[0mcontext\u001b[0m\u001b[0;34m.\u001b[0m\u001b[0masync_wait\u001b[0m\u001b[0;34m(\u001b[0m\u001b[0;34m)\u001b[0m\u001b[0;34m\u001b[0m\u001b[0;34m\u001b[0m\u001b[0m\n",
            "\u001b[0;32m/usr/local/lib/python3.10/dist-packages/tensorflow/python/util/traceback_utils.py\u001b[0m in \u001b[0;36merror_handler\u001b[0;34m(*args, **kwargs)\u001b[0m\n\u001b[1;32m    148\u001b[0m     \u001b[0mfiltered_tb\u001b[0m \u001b[0;34m=\u001b[0m \u001b[0;32mNone\u001b[0m\u001b[0;34m\u001b[0m\u001b[0;34m\u001b[0m\u001b[0m\n\u001b[1;32m    149\u001b[0m     \u001b[0;32mtry\u001b[0m\u001b[0;34m:\u001b[0m\u001b[0;34m\u001b[0m\u001b[0;34m\u001b[0m\u001b[0m\n\u001b[0;32m--> 150\u001b[0;31m       \u001b[0;32mreturn\u001b[0m \u001b[0mfn\u001b[0m\u001b[0;34m(\u001b[0m\u001b[0;34m*\u001b[0m\u001b[0margs\u001b[0m\u001b[0;34m,\u001b[0m \u001b[0;34m**\u001b[0m\u001b[0mkwargs\u001b[0m\u001b[0;34m)\u001b[0m\u001b[0;34m\u001b[0m\u001b[0;34m\u001b[0m\u001b[0m\n\u001b[0m\u001b[1;32m    151\u001b[0m     \u001b[0;32mexcept\u001b[0m \u001b[0mException\u001b[0m \u001b[0;32mas\u001b[0m \u001b[0me\u001b[0m\u001b[0;34m:\u001b[0m\u001b[0;34m\u001b[0m\u001b[0;34m\u001b[0m\u001b[0m\n\u001b[1;32m    152\u001b[0m       \u001b[0mfiltered_tb\u001b[0m \u001b[0;34m=\u001b[0m \u001b[0m_process_traceback_frames\u001b[0m\u001b[0;34m(\u001b[0m\u001b[0me\u001b[0m\u001b[0;34m.\u001b[0m\u001b[0m__traceback__\u001b[0m\u001b[0;34m)\u001b[0m\u001b[0;34m\u001b[0m\u001b[0;34m\u001b[0m\u001b[0m\n",
            "\u001b[0;32m/usr/local/lib/python3.10/dist-packages/tensorflow/python/eager/polymorphic_function/polymorphic_function.py\u001b[0m in \u001b[0;36m__call__\u001b[0;34m(self, *args, **kwds)\u001b[0m\n\u001b[1;32m    892\u001b[0m \u001b[0;34m\u001b[0m\u001b[0m\n\u001b[1;32m    893\u001b[0m       \u001b[0;32mwith\u001b[0m \u001b[0mOptionalXlaContext\u001b[0m\u001b[0;34m(\u001b[0m\u001b[0mself\u001b[0m\u001b[0;34m.\u001b[0m\u001b[0m_jit_compile\u001b[0m\u001b[0;34m)\u001b[0m\u001b[0;34m:\u001b[0m\u001b[0;34m\u001b[0m\u001b[0;34m\u001b[0m\u001b[0m\n\u001b[0;32m--> 894\u001b[0;31m         \u001b[0mresult\u001b[0m \u001b[0;34m=\u001b[0m \u001b[0mself\u001b[0m\u001b[0;34m.\u001b[0m\u001b[0m_call\u001b[0m\u001b[0;34m(\u001b[0m\u001b[0;34m*\u001b[0m\u001b[0margs\u001b[0m\u001b[0;34m,\u001b[0m \u001b[0;34m**\u001b[0m\u001b[0mkwds\u001b[0m\u001b[0;34m)\u001b[0m\u001b[0;34m\u001b[0m\u001b[0;34m\u001b[0m\u001b[0m\n\u001b[0m\u001b[1;32m    895\u001b[0m \u001b[0;34m\u001b[0m\u001b[0m\n\u001b[1;32m    896\u001b[0m       \u001b[0mnew_tracing_count\u001b[0m \u001b[0;34m=\u001b[0m \u001b[0mself\u001b[0m\u001b[0;34m.\u001b[0m\u001b[0mexperimental_get_tracing_count\u001b[0m\u001b[0;34m(\u001b[0m\u001b[0;34m)\u001b[0m\u001b[0;34m\u001b[0m\u001b[0;34m\u001b[0m\u001b[0m\n",
            "\u001b[0;32m/usr/local/lib/python3.10/dist-packages/tensorflow/python/eager/polymorphic_function/polymorphic_function.py\u001b[0m in \u001b[0;36m_call\u001b[0;34m(self, *args, **kwds)\u001b[0m\n\u001b[1;32m    931\u001b[0m       \u001b[0;31m# In this case we have not created variables on the first call. So we can\u001b[0m\u001b[0;34m\u001b[0m\u001b[0;34m\u001b[0m\u001b[0m\n\u001b[1;32m    932\u001b[0m       \u001b[0;31m# run the first trace but we should fail if variables are created.\u001b[0m\u001b[0;34m\u001b[0m\u001b[0;34m\u001b[0m\u001b[0m\n\u001b[0;32m--> 933\u001b[0;31m       \u001b[0mresults\u001b[0m \u001b[0;34m=\u001b[0m \u001b[0mself\u001b[0m\u001b[0;34m.\u001b[0m\u001b[0m_variable_creation_fn\u001b[0m\u001b[0;34m(\u001b[0m\u001b[0;34m*\u001b[0m\u001b[0margs\u001b[0m\u001b[0;34m,\u001b[0m \u001b[0;34m**\u001b[0m\u001b[0mkwds\u001b[0m\u001b[0;34m)\u001b[0m\u001b[0;34m\u001b[0m\u001b[0;34m\u001b[0m\u001b[0m\n\u001b[0m\u001b[1;32m    934\u001b[0m       \u001b[0;32mif\u001b[0m \u001b[0mself\u001b[0m\u001b[0;34m.\u001b[0m\u001b[0m_created_variables\u001b[0m \u001b[0;32mand\u001b[0m \u001b[0;32mnot\u001b[0m \u001b[0mALLOW_DYNAMIC_VARIABLE_CREATION\u001b[0m\u001b[0;34m:\u001b[0m\u001b[0;34m\u001b[0m\u001b[0;34m\u001b[0m\u001b[0m\n\u001b[1;32m    935\u001b[0m         raise ValueError(\"Creating variables on a non-first call to a function\"\n",
            "\u001b[0;32m/usr/local/lib/python3.10/dist-packages/tensorflow/python/eager/polymorphic_function/tracing_compiler.py\u001b[0m in \u001b[0;36m__call__\u001b[0;34m(self, *args, **kwargs)\u001b[0m\n\u001b[1;32m    141\u001b[0m       (concrete_function,\n\u001b[1;32m    142\u001b[0m        filtered_flat_args) = self._maybe_define_function(args, kwargs)\n\u001b[0;32m--> 143\u001b[0;31m     return concrete_function._call_flat(\n\u001b[0m\u001b[1;32m    144\u001b[0m         filtered_flat_args, captured_inputs=concrete_function.captured_inputs)  # pylint: disable=protected-access\n\u001b[1;32m    145\u001b[0m \u001b[0;34m\u001b[0m\u001b[0m\n",
            "\u001b[0;32m/usr/local/lib/python3.10/dist-packages/tensorflow/python/eager/polymorphic_function/monomorphic_function.py\u001b[0m in \u001b[0;36m_call_flat\u001b[0;34m(self, args, captured_inputs, cancellation_manager)\u001b[0m\n\u001b[1;32m   1755\u001b[0m         and executing_eagerly):\n\u001b[1;32m   1756\u001b[0m       \u001b[0;31m# No tape is watching; skip to running the function.\u001b[0m\u001b[0;34m\u001b[0m\u001b[0;34m\u001b[0m\u001b[0m\n\u001b[0;32m-> 1757\u001b[0;31m       return self._build_call_outputs(self._inference_function.call(\n\u001b[0m\u001b[1;32m   1758\u001b[0m           ctx, args, cancellation_manager=cancellation_manager))\n\u001b[1;32m   1759\u001b[0m     forward_backward = self._select_forward_and_backward_functions(\n",
            "\u001b[0;32m/usr/local/lib/python3.10/dist-packages/tensorflow/python/eager/polymorphic_function/monomorphic_function.py\u001b[0m in \u001b[0;36mcall\u001b[0;34m(self, ctx, args, cancellation_manager)\u001b[0m\n\u001b[1;32m    379\u001b[0m       \u001b[0;32mwith\u001b[0m \u001b[0m_InterpolateFunctionError\u001b[0m\u001b[0;34m(\u001b[0m\u001b[0mself\u001b[0m\u001b[0;34m)\u001b[0m\u001b[0;34m:\u001b[0m\u001b[0;34m\u001b[0m\u001b[0;34m\u001b[0m\u001b[0m\n\u001b[1;32m    380\u001b[0m         \u001b[0;32mif\u001b[0m \u001b[0mcancellation_manager\u001b[0m \u001b[0;32mis\u001b[0m \u001b[0;32mNone\u001b[0m\u001b[0;34m:\u001b[0m\u001b[0;34m\u001b[0m\u001b[0;34m\u001b[0m\u001b[0m\n\u001b[0;32m--> 381\u001b[0;31m           outputs = execute.execute(\n\u001b[0m\u001b[1;32m    382\u001b[0m               \u001b[0mstr\u001b[0m\u001b[0;34m(\u001b[0m\u001b[0mself\u001b[0m\u001b[0;34m.\u001b[0m\u001b[0msignature\u001b[0m\u001b[0;34m.\u001b[0m\u001b[0mname\u001b[0m\u001b[0;34m)\u001b[0m\u001b[0;34m,\u001b[0m\u001b[0;34m\u001b[0m\u001b[0;34m\u001b[0m\u001b[0m\n\u001b[1;32m    383\u001b[0m               \u001b[0mnum_outputs\u001b[0m\u001b[0;34m=\u001b[0m\u001b[0mself\u001b[0m\u001b[0;34m.\u001b[0m\u001b[0m_num_outputs\u001b[0m\u001b[0;34m,\u001b[0m\u001b[0;34m\u001b[0m\u001b[0;34m\u001b[0m\u001b[0m\n",
            "\u001b[0;32m/usr/local/lib/python3.10/dist-packages/tensorflow/python/eager/execute.py\u001b[0m in \u001b[0;36mquick_execute\u001b[0;34m(op_name, num_outputs, inputs, attrs, ctx, name)\u001b[0m\n\u001b[1;32m     50\u001b[0m   \u001b[0;32mtry\u001b[0m\u001b[0;34m:\u001b[0m\u001b[0;34m\u001b[0m\u001b[0;34m\u001b[0m\u001b[0m\n\u001b[1;32m     51\u001b[0m     \u001b[0mctx\u001b[0m\u001b[0;34m.\u001b[0m\u001b[0mensure_initialized\u001b[0m\u001b[0;34m(\u001b[0m\u001b[0;34m)\u001b[0m\u001b[0;34m\u001b[0m\u001b[0;34m\u001b[0m\u001b[0m\n\u001b[0;32m---> 52\u001b[0;31m     tensors = pywrap_tfe.TFE_Py_Execute(ctx._handle, device_name, op_name,\n\u001b[0m\u001b[1;32m     53\u001b[0m                                         inputs, attrs, num_outputs)\n\u001b[1;32m     54\u001b[0m   \u001b[0;32mexcept\u001b[0m \u001b[0mcore\u001b[0m\u001b[0;34m.\u001b[0m\u001b[0m_NotOkStatusException\u001b[0m \u001b[0;32mas\u001b[0m \u001b[0me\u001b[0m\u001b[0;34m:\u001b[0m\u001b[0;34m\u001b[0m\u001b[0;34m\u001b[0m\u001b[0m\n",
            "\u001b[0;31mKeyboardInterrupt\u001b[0m: "
          ]
        }
      ],
      "source": [
        "resultcomp=[]\n",
        "resultgt=[]\n",
        "resultpred=[]\n",
        "for i in range(len(tsent1)):\n",
        "  if tcode1[i] in ['A0409'] :\n",
        "    resultcomp.append(tsent1[i])\n",
        "    sent=blubertpreprocess(tsent1[i])\n",
        "    #print(sent)\n",
        "    sent=np.asarray(sent)\n",
        "    #sent=np.expand_dims(sent,axis=0)\n",
        "    res=model.predict(sent)\n",
        "    ind = np.argpartition(res[0], -20)[-20:]\n",
        "    ind = ind[np.argsort(res[0][ind])]\n",
        "    t=[decodelabels[ind[-1]],decodelabels[ind[-2]],decodelabels[ind[-3]],decodelabels[ind[-4]],decodelabels[ind[-5]],decodelabels[ind[-6]]]\n",
        "    #t=decode_preds(res,decodelabels)\n",
        "    if tcode1[i] in t:\n",
        "       resultpred.append(tcode1[i])\n",
        "    else:\n",
        "      resultpred.append(t[-1])\n",
        "    resultgt.append(tcode1[i])\n",
        "\n",
        "    print(tsent1[i],resultgt[-1],resultpred[-1],t)"
      ]
    },
    {
      "cell_type": "code",
      "execution_count": null,
      "metadata": {
        "colab": {
          "base_uri": "https://localhost:8080/"
        },
        "id": "HebsE6ATOcCr",
        "outputId": "88a9ebb6-4350-4d18-c78d-508e5bb06a3c"
      },
      "outputs": [
        {
          "output_type": "stream",
          "name": "stdout",
          "text": [
            "1/1 [==============================] - 0s 244ms/step\n",
            "Patient had worn right lens for about 2 weeks and now experiencing an area that is now has a  smeared appearance. Will return for evaluation ['A24', 'A0406', 'A04', 'A0409', 'A02', 'A0201'] [0.7462257, 0.22816429, 0.1452407, 0.12028957, 0.0997498, 0.084662534]\n"
          ]
        }
      ],
      "source": [
        "sent1=\"Patient had worn right lens for about 2 weeks and now experiencing an area that is now has a  smeared appearance. Will return for evaluation\"\n",
        "sent=blubertpreprocess(sent1)\n",
        "#print(sent)\n",
        "sent=np.asarray(sent)\n",
        "#sent=np.expand_dims(sent,axis=0)\n",
        "res=model.predict(sent)\n",
        "ind = np.argpartition(res[0], -20)[-20:]\n",
        "ind = ind[np.argsort(res[0][ind])]\n",
        "t=[decodelabels[ind[-1]],decodelabels[ind[-2]],decodelabels[ind[-3]],decodelabels[ind[-4]],decodelabels[ind[-5]],decodelabels[ind[-6]]]\n",
        "probs=[res[0][ind[-1]],res[0][ind[-2]],res[0][ind[-3]],res[0][ind[-4]],res[0][ind[-5]],res[0][ind[-6]]]\n",
        "#t=decode_preds(res,decodelabels)\n",
        "\"\"\"if tcode1[i] in t:\n",
        "    resultpred.append(tcode1[i])\n",
        "else:\n",
        "  resultpred.append(t[-1])\n",
        "resultgt.append(tcode1[i])\"\"\"\n",
        "\n",
        "print(sent1,t,probs)"
      ]
    },
    {
      "cell_type": "code",
      "execution_count": null,
      "metadata": {
        "id": "C_ci7P9vcDDx"
      },
      "outputs": [],
      "source": [
        "A1801,A2201,A150101"
      ]
    },
    {
      "cell_type": "code",
      "execution_count": null,
      "metadata": {
        "id": "C_tC_ws2rLI0"
      },
      "outputs": [],
      "source": [
        "resultcomp[0],codes,comp"
      ]
    },
    {
      "cell_type": "code",
      "execution_count": null,
      "metadata": {
        "id": "UJGQGSmssd67"
      },
      "outputs": [],
      "source": [
        "for i in range(len(codes)):\n",
        "  if codes[i] in ['A18']:\n",
        "    print(comp[i])"
      ]
    }
  ],
  "metadata": {
    "accelerator": "GPU",
    "colab": {
      "provenance": []
    },
    "gpuClass": "standard",
    "kernelspec": {
      "display_name": "Python 3",
      "language": "python",
      "name": "python3"
    },
    "language_info": {
      "codemirror_mode": {
        "name": "ipython",
        "version": 3
      },
      "file_extension": ".py",
      "mimetype": "text/x-python",
      "name": "python",
      "nbconvert_exporter": "python",
      "pygments_lexer": "ipython3",
      "version": "3.6.9"
    },
    "widgets": {
      "application/vnd.jupyter.widget-state+json": {
        "3beba7f184594decb2fe4276dc6589b8": {
          "model_module": "@jupyter-widgets/controls",
          "model_name": "HBoxModel",
          "model_module_version": "1.5.0",
          "state": {
            "_dom_classes": [],
            "_model_module": "@jupyter-widgets/controls",
            "_model_module_version": "1.5.0",
            "_model_name": "HBoxModel",
            "_view_count": null,
            "_view_module": "@jupyter-widgets/controls",
            "_view_module_version": "1.5.0",
            "_view_name": "HBoxView",
            "box_style": "",
            "children": [
              "IPY_MODEL_3f58a651278d4c239b79ce326c939295",
              "IPY_MODEL_7fcab6676261488b9f13c97989eaf485",
              "IPY_MODEL_6b027c3a70594103a384a44d79b9d11a"
            ],
            "layout": "IPY_MODEL_2f04e3f6ae234e56a41bb1e0b80cd322"
          }
        },
        "3f58a651278d4c239b79ce326c939295": {
          "model_module": "@jupyter-widgets/controls",
          "model_name": "HTMLModel",
          "model_module_version": "1.5.0",
          "state": {
            "_dom_classes": [],
            "_model_module": "@jupyter-widgets/controls",
            "_model_module_version": "1.5.0",
            "_model_name": "HTMLModel",
            "_view_count": null,
            "_view_module": "@jupyter-widgets/controls",
            "_view_module_version": "1.5.0",
            "_view_name": "HTMLView",
            "description": "",
            "description_tooltip": null,
            "layout": "IPY_MODEL_9bef8ecdc2314217b88dbb6a217d73f1",
            "placeholder": "​",
            "style": "IPY_MODEL_ca48f80550f44fb88edc6749eb2c0c59",
            "value": "Downloading (…)solve/main/vocab.txt: 100%"
          }
        },
        "7fcab6676261488b9f13c97989eaf485": {
          "model_module": "@jupyter-widgets/controls",
          "model_name": "FloatProgressModel",
          "model_module_version": "1.5.0",
          "state": {
            "_dom_classes": [],
            "_model_module": "@jupyter-widgets/controls",
            "_model_module_version": "1.5.0",
            "_model_name": "FloatProgressModel",
            "_view_count": null,
            "_view_module": "@jupyter-widgets/controls",
            "_view_module_version": "1.5.0",
            "_view_name": "ProgressView",
            "bar_style": "success",
            "description": "",
            "description_tooltip": null,
            "layout": "IPY_MODEL_fc9de7cbd58b438c8130b5dd3e92c4c0",
            "max": 231508,
            "min": 0,
            "orientation": "horizontal",
            "style": "IPY_MODEL_5d069b38784a439e94918b3efb7d6db2",
            "value": 231508
          }
        },
        "6b027c3a70594103a384a44d79b9d11a": {
          "model_module": "@jupyter-widgets/controls",
          "model_name": "HTMLModel",
          "model_module_version": "1.5.0",
          "state": {
            "_dom_classes": [],
            "_model_module": "@jupyter-widgets/controls",
            "_model_module_version": "1.5.0",
            "_model_name": "HTMLModel",
            "_view_count": null,
            "_view_module": "@jupyter-widgets/controls",
            "_view_module_version": "1.5.0",
            "_view_name": "HTMLView",
            "description": "",
            "description_tooltip": null,
            "layout": "IPY_MODEL_e279331898694f9294ed16b52a8d6550",
            "placeholder": "​",
            "style": "IPY_MODEL_83d71d7e2084473b9c96c66868fb74c9",
            "value": " 232k/232k [00:00&lt;00:00, 1.88MB/s]"
          }
        },
        "2f04e3f6ae234e56a41bb1e0b80cd322": {
          "model_module": "@jupyter-widgets/base",
          "model_name": "LayoutModel",
          "model_module_version": "1.2.0",
          "state": {
            "_model_module": "@jupyter-widgets/base",
            "_model_module_version": "1.2.0",
            "_model_name": "LayoutModel",
            "_view_count": null,
            "_view_module": "@jupyter-widgets/base",
            "_view_module_version": "1.2.0",
            "_view_name": "LayoutView",
            "align_content": null,
            "align_items": null,
            "align_self": null,
            "border": null,
            "bottom": null,
            "display": null,
            "flex": null,
            "flex_flow": null,
            "grid_area": null,
            "grid_auto_columns": null,
            "grid_auto_flow": null,
            "grid_auto_rows": null,
            "grid_column": null,
            "grid_gap": null,
            "grid_row": null,
            "grid_template_areas": null,
            "grid_template_columns": null,
            "grid_template_rows": null,
            "height": null,
            "justify_content": null,
            "justify_items": null,
            "left": null,
            "margin": null,
            "max_height": null,
            "max_width": null,
            "min_height": null,
            "min_width": null,
            "object_fit": null,
            "object_position": null,
            "order": null,
            "overflow": null,
            "overflow_x": null,
            "overflow_y": null,
            "padding": null,
            "right": null,
            "top": null,
            "visibility": null,
            "width": null
          }
        },
        "9bef8ecdc2314217b88dbb6a217d73f1": {
          "model_module": "@jupyter-widgets/base",
          "model_name": "LayoutModel",
          "model_module_version": "1.2.0",
          "state": {
            "_model_module": "@jupyter-widgets/base",
            "_model_module_version": "1.2.0",
            "_model_name": "LayoutModel",
            "_view_count": null,
            "_view_module": "@jupyter-widgets/base",
            "_view_module_version": "1.2.0",
            "_view_name": "LayoutView",
            "align_content": null,
            "align_items": null,
            "align_self": null,
            "border": null,
            "bottom": null,
            "display": null,
            "flex": null,
            "flex_flow": null,
            "grid_area": null,
            "grid_auto_columns": null,
            "grid_auto_flow": null,
            "grid_auto_rows": null,
            "grid_column": null,
            "grid_gap": null,
            "grid_row": null,
            "grid_template_areas": null,
            "grid_template_columns": null,
            "grid_template_rows": null,
            "height": null,
            "justify_content": null,
            "justify_items": null,
            "left": null,
            "margin": null,
            "max_height": null,
            "max_width": null,
            "min_height": null,
            "min_width": null,
            "object_fit": null,
            "object_position": null,
            "order": null,
            "overflow": null,
            "overflow_x": null,
            "overflow_y": null,
            "padding": null,
            "right": null,
            "top": null,
            "visibility": null,
            "width": null
          }
        },
        "ca48f80550f44fb88edc6749eb2c0c59": {
          "model_module": "@jupyter-widgets/controls",
          "model_name": "DescriptionStyleModel",
          "model_module_version": "1.5.0",
          "state": {
            "_model_module": "@jupyter-widgets/controls",
            "_model_module_version": "1.5.0",
            "_model_name": "DescriptionStyleModel",
            "_view_count": null,
            "_view_module": "@jupyter-widgets/base",
            "_view_module_version": "1.2.0",
            "_view_name": "StyleView",
            "description_width": ""
          }
        },
        "fc9de7cbd58b438c8130b5dd3e92c4c0": {
          "model_module": "@jupyter-widgets/base",
          "model_name": "LayoutModel",
          "model_module_version": "1.2.0",
          "state": {
            "_model_module": "@jupyter-widgets/base",
            "_model_module_version": "1.2.0",
            "_model_name": "LayoutModel",
            "_view_count": null,
            "_view_module": "@jupyter-widgets/base",
            "_view_module_version": "1.2.0",
            "_view_name": "LayoutView",
            "align_content": null,
            "align_items": null,
            "align_self": null,
            "border": null,
            "bottom": null,
            "display": null,
            "flex": null,
            "flex_flow": null,
            "grid_area": null,
            "grid_auto_columns": null,
            "grid_auto_flow": null,
            "grid_auto_rows": null,
            "grid_column": null,
            "grid_gap": null,
            "grid_row": null,
            "grid_template_areas": null,
            "grid_template_columns": null,
            "grid_template_rows": null,
            "height": null,
            "justify_content": null,
            "justify_items": null,
            "left": null,
            "margin": null,
            "max_height": null,
            "max_width": null,
            "min_height": null,
            "min_width": null,
            "object_fit": null,
            "object_position": null,
            "order": null,
            "overflow": null,
            "overflow_x": null,
            "overflow_y": null,
            "padding": null,
            "right": null,
            "top": null,
            "visibility": null,
            "width": null
          }
        },
        "5d069b38784a439e94918b3efb7d6db2": {
          "model_module": "@jupyter-widgets/controls",
          "model_name": "ProgressStyleModel",
          "model_module_version": "1.5.0",
          "state": {
            "_model_module": "@jupyter-widgets/controls",
            "_model_module_version": "1.5.0",
            "_model_name": "ProgressStyleModel",
            "_view_count": null,
            "_view_module": "@jupyter-widgets/base",
            "_view_module_version": "1.2.0",
            "_view_name": "StyleView",
            "bar_color": null,
            "description_width": ""
          }
        },
        "e279331898694f9294ed16b52a8d6550": {
          "model_module": "@jupyter-widgets/base",
          "model_name": "LayoutModel",
          "model_module_version": "1.2.0",
          "state": {
            "_model_module": "@jupyter-widgets/base",
            "_model_module_version": "1.2.0",
            "_model_name": "LayoutModel",
            "_view_count": null,
            "_view_module": "@jupyter-widgets/base",
            "_view_module_version": "1.2.0",
            "_view_name": "LayoutView",
            "align_content": null,
            "align_items": null,
            "align_self": null,
            "border": null,
            "bottom": null,
            "display": null,
            "flex": null,
            "flex_flow": null,
            "grid_area": null,
            "grid_auto_columns": null,
            "grid_auto_flow": null,
            "grid_auto_rows": null,
            "grid_column": null,
            "grid_gap": null,
            "grid_row": null,
            "grid_template_areas": null,
            "grid_template_columns": null,
            "grid_template_rows": null,
            "height": null,
            "justify_content": null,
            "justify_items": null,
            "left": null,
            "margin": null,
            "max_height": null,
            "max_width": null,
            "min_height": null,
            "min_width": null,
            "object_fit": null,
            "object_position": null,
            "order": null,
            "overflow": null,
            "overflow_x": null,
            "overflow_y": null,
            "padding": null,
            "right": null,
            "top": null,
            "visibility": null,
            "width": null
          }
        },
        "83d71d7e2084473b9c96c66868fb74c9": {
          "model_module": "@jupyter-widgets/controls",
          "model_name": "DescriptionStyleModel",
          "model_module_version": "1.5.0",
          "state": {
            "_model_module": "@jupyter-widgets/controls",
            "_model_module_version": "1.5.0",
            "_model_name": "DescriptionStyleModel",
            "_view_count": null,
            "_view_module": "@jupyter-widgets/base",
            "_view_module_version": "1.2.0",
            "_view_name": "StyleView",
            "description_width": ""
          }
        },
        "5a41502241874473a11d700610b3e4ff": {
          "model_module": "@jupyter-widgets/controls",
          "model_name": "HBoxModel",
          "model_module_version": "1.5.0",
          "state": {
            "_dom_classes": [],
            "_model_module": "@jupyter-widgets/controls",
            "_model_module_version": "1.5.0",
            "_model_name": "HBoxModel",
            "_view_count": null,
            "_view_module": "@jupyter-widgets/controls",
            "_view_module_version": "1.5.0",
            "_view_name": "HBoxView",
            "box_style": "",
            "children": [
              "IPY_MODEL_b0a28a6fb45d45e0a30d0580c446609c",
              "IPY_MODEL_22f88fd5413d4f4ebef351d0b936e896",
              "IPY_MODEL_71916a4a71d248cdb8c35574ef9ab815"
            ],
            "layout": "IPY_MODEL_4296135eeea54aa18169dbb03b273ca0"
          }
        },
        "b0a28a6fb45d45e0a30d0580c446609c": {
          "model_module": "@jupyter-widgets/controls",
          "model_name": "HTMLModel",
          "model_module_version": "1.5.0",
          "state": {
            "_dom_classes": [],
            "_model_module": "@jupyter-widgets/controls",
            "_model_module_version": "1.5.0",
            "_model_name": "HTMLModel",
            "_view_count": null,
            "_view_module": "@jupyter-widgets/controls",
            "_view_module_version": "1.5.0",
            "_view_name": "HTMLView",
            "description": "",
            "description_tooltip": null,
            "layout": "IPY_MODEL_70941589c3f1496b96d153c889775e70",
            "placeholder": "​",
            "style": "IPY_MODEL_479592fe09ba434291ee6d43d7a1d0a6",
            "value": "Downloading (…)lve/main/config.json: 100%"
          }
        },
        "22f88fd5413d4f4ebef351d0b936e896": {
          "model_module": "@jupyter-widgets/controls",
          "model_name": "FloatProgressModel",
          "model_module_version": "1.5.0",
          "state": {
            "_dom_classes": [],
            "_model_module": "@jupyter-widgets/controls",
            "_model_module_version": "1.5.0",
            "_model_name": "FloatProgressModel",
            "_view_count": null,
            "_view_module": "@jupyter-widgets/controls",
            "_view_module_version": "1.5.0",
            "_view_name": "ProgressView",
            "bar_style": "success",
            "description": "",
            "description_tooltip": null,
            "layout": "IPY_MODEL_c8068ff539f7405d95ac34d9ee53ffa8",
            "max": 313,
            "min": 0,
            "orientation": "horizontal",
            "style": "IPY_MODEL_d9e67160342b49ec92b362dfa74810dd",
            "value": 313
          }
        },
        "71916a4a71d248cdb8c35574ef9ab815": {
          "model_module": "@jupyter-widgets/controls",
          "model_name": "HTMLModel",
          "model_module_version": "1.5.0",
          "state": {
            "_dom_classes": [],
            "_model_module": "@jupyter-widgets/controls",
            "_model_module_version": "1.5.0",
            "_model_name": "HTMLModel",
            "_view_count": null,
            "_view_module": "@jupyter-widgets/controls",
            "_view_module_version": "1.5.0",
            "_view_name": "HTMLView",
            "description": "",
            "description_tooltip": null,
            "layout": "IPY_MODEL_e21eca73056b4debbe3970a4ef27f184",
            "placeholder": "​",
            "style": "IPY_MODEL_aa984431f28d48a3b122bcea0589e0d9",
            "value": " 313/313 [00:00&lt;00:00, 18.3kB/s]"
          }
        },
        "4296135eeea54aa18169dbb03b273ca0": {
          "model_module": "@jupyter-widgets/base",
          "model_name": "LayoutModel",
          "model_module_version": "1.2.0",
          "state": {
            "_model_module": "@jupyter-widgets/base",
            "_model_module_version": "1.2.0",
            "_model_name": "LayoutModel",
            "_view_count": null,
            "_view_module": "@jupyter-widgets/base",
            "_view_module_version": "1.2.0",
            "_view_name": "LayoutView",
            "align_content": null,
            "align_items": null,
            "align_self": null,
            "border": null,
            "bottom": null,
            "display": null,
            "flex": null,
            "flex_flow": null,
            "grid_area": null,
            "grid_auto_columns": null,
            "grid_auto_flow": null,
            "grid_auto_rows": null,
            "grid_column": null,
            "grid_gap": null,
            "grid_row": null,
            "grid_template_areas": null,
            "grid_template_columns": null,
            "grid_template_rows": null,
            "height": null,
            "justify_content": null,
            "justify_items": null,
            "left": null,
            "margin": null,
            "max_height": null,
            "max_width": null,
            "min_height": null,
            "min_width": null,
            "object_fit": null,
            "object_position": null,
            "order": null,
            "overflow": null,
            "overflow_x": null,
            "overflow_y": null,
            "padding": null,
            "right": null,
            "top": null,
            "visibility": null,
            "width": null
          }
        },
        "70941589c3f1496b96d153c889775e70": {
          "model_module": "@jupyter-widgets/base",
          "model_name": "LayoutModel",
          "model_module_version": "1.2.0",
          "state": {
            "_model_module": "@jupyter-widgets/base",
            "_model_module_version": "1.2.0",
            "_model_name": "LayoutModel",
            "_view_count": null,
            "_view_module": "@jupyter-widgets/base",
            "_view_module_version": "1.2.0",
            "_view_name": "LayoutView",
            "align_content": null,
            "align_items": null,
            "align_self": null,
            "border": null,
            "bottom": null,
            "display": null,
            "flex": null,
            "flex_flow": null,
            "grid_area": null,
            "grid_auto_columns": null,
            "grid_auto_flow": null,
            "grid_auto_rows": null,
            "grid_column": null,
            "grid_gap": null,
            "grid_row": null,
            "grid_template_areas": null,
            "grid_template_columns": null,
            "grid_template_rows": null,
            "height": null,
            "justify_content": null,
            "justify_items": null,
            "left": null,
            "margin": null,
            "max_height": null,
            "max_width": null,
            "min_height": null,
            "min_width": null,
            "object_fit": null,
            "object_position": null,
            "order": null,
            "overflow": null,
            "overflow_x": null,
            "overflow_y": null,
            "padding": null,
            "right": null,
            "top": null,
            "visibility": null,
            "width": null
          }
        },
        "479592fe09ba434291ee6d43d7a1d0a6": {
          "model_module": "@jupyter-widgets/controls",
          "model_name": "DescriptionStyleModel",
          "model_module_version": "1.5.0",
          "state": {
            "_model_module": "@jupyter-widgets/controls",
            "_model_module_version": "1.5.0",
            "_model_name": "DescriptionStyleModel",
            "_view_count": null,
            "_view_module": "@jupyter-widgets/base",
            "_view_module_version": "1.2.0",
            "_view_name": "StyleView",
            "description_width": ""
          }
        },
        "c8068ff539f7405d95ac34d9ee53ffa8": {
          "model_module": "@jupyter-widgets/base",
          "model_name": "LayoutModel",
          "model_module_version": "1.2.0",
          "state": {
            "_model_module": "@jupyter-widgets/base",
            "_model_module_version": "1.2.0",
            "_model_name": "LayoutModel",
            "_view_count": null,
            "_view_module": "@jupyter-widgets/base",
            "_view_module_version": "1.2.0",
            "_view_name": "LayoutView",
            "align_content": null,
            "align_items": null,
            "align_self": null,
            "border": null,
            "bottom": null,
            "display": null,
            "flex": null,
            "flex_flow": null,
            "grid_area": null,
            "grid_auto_columns": null,
            "grid_auto_flow": null,
            "grid_auto_rows": null,
            "grid_column": null,
            "grid_gap": null,
            "grid_row": null,
            "grid_template_areas": null,
            "grid_template_columns": null,
            "grid_template_rows": null,
            "height": null,
            "justify_content": null,
            "justify_items": null,
            "left": null,
            "margin": null,
            "max_height": null,
            "max_width": null,
            "min_height": null,
            "min_width": null,
            "object_fit": null,
            "object_position": null,
            "order": null,
            "overflow": null,
            "overflow_x": null,
            "overflow_y": null,
            "padding": null,
            "right": null,
            "top": null,
            "visibility": null,
            "width": null
          }
        },
        "d9e67160342b49ec92b362dfa74810dd": {
          "model_module": "@jupyter-widgets/controls",
          "model_name": "ProgressStyleModel",
          "model_module_version": "1.5.0",
          "state": {
            "_model_module": "@jupyter-widgets/controls",
            "_model_module_version": "1.5.0",
            "_model_name": "ProgressStyleModel",
            "_view_count": null,
            "_view_module": "@jupyter-widgets/base",
            "_view_module_version": "1.2.0",
            "_view_name": "StyleView",
            "bar_color": null,
            "description_width": ""
          }
        },
        "e21eca73056b4debbe3970a4ef27f184": {
          "model_module": "@jupyter-widgets/base",
          "model_name": "LayoutModel",
          "model_module_version": "1.2.0",
          "state": {
            "_model_module": "@jupyter-widgets/base",
            "_model_module_version": "1.2.0",
            "_model_name": "LayoutModel",
            "_view_count": null,
            "_view_module": "@jupyter-widgets/base",
            "_view_module_version": "1.2.0",
            "_view_name": "LayoutView",
            "align_content": null,
            "align_items": null,
            "align_self": null,
            "border": null,
            "bottom": null,
            "display": null,
            "flex": null,
            "flex_flow": null,
            "grid_area": null,
            "grid_auto_columns": null,
            "grid_auto_flow": null,
            "grid_auto_rows": null,
            "grid_column": null,
            "grid_gap": null,
            "grid_row": null,
            "grid_template_areas": null,
            "grid_template_columns": null,
            "grid_template_rows": null,
            "height": null,
            "justify_content": null,
            "justify_items": null,
            "left": null,
            "margin": null,
            "max_height": null,
            "max_width": null,
            "min_height": null,
            "min_width": null,
            "object_fit": null,
            "object_position": null,
            "order": null,
            "overflow": null,
            "overflow_x": null,
            "overflow_y": null,
            "padding": null,
            "right": null,
            "top": null,
            "visibility": null,
            "width": null
          }
        },
        "aa984431f28d48a3b122bcea0589e0d9": {
          "model_module": "@jupyter-widgets/controls",
          "model_name": "DescriptionStyleModel",
          "model_module_version": "1.5.0",
          "state": {
            "_model_module": "@jupyter-widgets/controls",
            "_model_module_version": "1.5.0",
            "_model_name": "DescriptionStyleModel",
            "_view_count": null,
            "_view_module": "@jupyter-widgets/base",
            "_view_module_version": "1.2.0",
            "_view_name": "StyleView",
            "description_width": ""
          }
        },
        "6c3ed70a02b8494d9d58b9e814951b4b": {
          "model_module": "@jupyter-widgets/controls",
          "model_name": "HBoxModel",
          "model_module_version": "1.5.0",
          "state": {
            "_dom_classes": [],
            "_model_module": "@jupyter-widgets/controls",
            "_model_module_version": "1.5.0",
            "_model_name": "HBoxModel",
            "_view_count": null,
            "_view_module": "@jupyter-widgets/controls",
            "_view_module_version": "1.5.0",
            "_view_name": "HBoxView",
            "box_style": "",
            "children": [
              "IPY_MODEL_fb0ac36d4804411f9a5fc5777c190b9a",
              "IPY_MODEL_1da36ba77b7445d9ab8668d2d307498f",
              "IPY_MODEL_621ff991f7614062b3543ff3c74d43d5"
            ],
            "layout": "IPY_MODEL_aa173bf082ef42889750df1521c08863"
          }
        },
        "fb0ac36d4804411f9a5fc5777c190b9a": {
          "model_module": "@jupyter-widgets/controls",
          "model_name": "HTMLModel",
          "model_module_version": "1.5.0",
          "state": {
            "_dom_classes": [],
            "_model_module": "@jupyter-widgets/controls",
            "_model_module_version": "1.5.0",
            "_model_name": "HTMLModel",
            "_view_count": null,
            "_view_module": "@jupyter-widgets/controls",
            "_view_module_version": "1.5.0",
            "_view_name": "HTMLView",
            "description": "",
            "description_tooltip": null,
            "layout": "IPY_MODEL_6487e42bb9644410943e029d5c268bf1",
            "placeholder": "​",
            "style": "IPY_MODEL_16dea69dc8364b559aa3d31a4bede6c1",
            "value": "Downloading pytorch_model.bin: 100%"
          }
        },
        "1da36ba77b7445d9ab8668d2d307498f": {
          "model_module": "@jupyter-widgets/controls",
          "model_name": "FloatProgressModel",
          "model_module_version": "1.5.0",
          "state": {
            "_dom_classes": [],
            "_model_module": "@jupyter-widgets/controls",
            "_model_module_version": "1.5.0",
            "_model_name": "FloatProgressModel",
            "_view_count": null,
            "_view_module": "@jupyter-widgets/controls",
            "_view_module_version": "1.5.0",
            "_view_name": "ProgressView",
            "bar_style": "success",
            "description": "",
            "description_tooltip": null,
            "layout": "IPY_MODEL_d823c998af6c43f58a034c1d106c9027",
            "max": 440512266,
            "min": 0,
            "orientation": "horizontal",
            "style": "IPY_MODEL_831ea8b7b71143b4a482e9810c57bb15",
            "value": 440512266
          }
        },
        "621ff991f7614062b3543ff3c74d43d5": {
          "model_module": "@jupyter-widgets/controls",
          "model_name": "HTMLModel",
          "model_module_version": "1.5.0",
          "state": {
            "_dom_classes": [],
            "_model_module": "@jupyter-widgets/controls",
            "_model_module_version": "1.5.0",
            "_model_name": "HTMLModel",
            "_view_count": null,
            "_view_module": "@jupyter-widgets/controls",
            "_view_module_version": "1.5.0",
            "_view_name": "HTMLView",
            "description": "",
            "description_tooltip": null,
            "layout": "IPY_MODEL_d23492ac377d42fc8cb4bacfe79ea4e5",
            "placeholder": "​",
            "style": "IPY_MODEL_ddcfda4c53a847d2baa8eab9923d7fd4",
            "value": " 441M/441M [00:02&lt;00:00, 172MB/s]"
          }
        },
        "aa173bf082ef42889750df1521c08863": {
          "model_module": "@jupyter-widgets/base",
          "model_name": "LayoutModel",
          "model_module_version": "1.2.0",
          "state": {
            "_model_module": "@jupyter-widgets/base",
            "_model_module_version": "1.2.0",
            "_model_name": "LayoutModel",
            "_view_count": null,
            "_view_module": "@jupyter-widgets/base",
            "_view_module_version": "1.2.0",
            "_view_name": "LayoutView",
            "align_content": null,
            "align_items": null,
            "align_self": null,
            "border": null,
            "bottom": null,
            "display": null,
            "flex": null,
            "flex_flow": null,
            "grid_area": null,
            "grid_auto_columns": null,
            "grid_auto_flow": null,
            "grid_auto_rows": null,
            "grid_column": null,
            "grid_gap": null,
            "grid_row": null,
            "grid_template_areas": null,
            "grid_template_columns": null,
            "grid_template_rows": null,
            "height": null,
            "justify_content": null,
            "justify_items": null,
            "left": null,
            "margin": null,
            "max_height": null,
            "max_width": null,
            "min_height": null,
            "min_width": null,
            "object_fit": null,
            "object_position": null,
            "order": null,
            "overflow": null,
            "overflow_x": null,
            "overflow_y": null,
            "padding": null,
            "right": null,
            "top": null,
            "visibility": null,
            "width": null
          }
        },
        "6487e42bb9644410943e029d5c268bf1": {
          "model_module": "@jupyter-widgets/base",
          "model_name": "LayoutModel",
          "model_module_version": "1.2.0",
          "state": {
            "_model_module": "@jupyter-widgets/base",
            "_model_module_version": "1.2.0",
            "_model_name": "LayoutModel",
            "_view_count": null,
            "_view_module": "@jupyter-widgets/base",
            "_view_module_version": "1.2.0",
            "_view_name": "LayoutView",
            "align_content": null,
            "align_items": null,
            "align_self": null,
            "border": null,
            "bottom": null,
            "display": null,
            "flex": null,
            "flex_flow": null,
            "grid_area": null,
            "grid_auto_columns": null,
            "grid_auto_flow": null,
            "grid_auto_rows": null,
            "grid_column": null,
            "grid_gap": null,
            "grid_row": null,
            "grid_template_areas": null,
            "grid_template_columns": null,
            "grid_template_rows": null,
            "height": null,
            "justify_content": null,
            "justify_items": null,
            "left": null,
            "margin": null,
            "max_height": null,
            "max_width": null,
            "min_height": null,
            "min_width": null,
            "object_fit": null,
            "object_position": null,
            "order": null,
            "overflow": null,
            "overflow_x": null,
            "overflow_y": null,
            "padding": null,
            "right": null,
            "top": null,
            "visibility": null,
            "width": null
          }
        },
        "16dea69dc8364b559aa3d31a4bede6c1": {
          "model_module": "@jupyter-widgets/controls",
          "model_name": "DescriptionStyleModel",
          "model_module_version": "1.5.0",
          "state": {
            "_model_module": "@jupyter-widgets/controls",
            "_model_module_version": "1.5.0",
            "_model_name": "DescriptionStyleModel",
            "_view_count": null,
            "_view_module": "@jupyter-widgets/base",
            "_view_module_version": "1.2.0",
            "_view_name": "StyleView",
            "description_width": ""
          }
        },
        "d823c998af6c43f58a034c1d106c9027": {
          "model_module": "@jupyter-widgets/base",
          "model_name": "LayoutModel",
          "model_module_version": "1.2.0",
          "state": {
            "_model_module": "@jupyter-widgets/base",
            "_model_module_version": "1.2.0",
            "_model_name": "LayoutModel",
            "_view_count": null,
            "_view_module": "@jupyter-widgets/base",
            "_view_module_version": "1.2.0",
            "_view_name": "LayoutView",
            "align_content": null,
            "align_items": null,
            "align_self": null,
            "border": null,
            "bottom": null,
            "display": null,
            "flex": null,
            "flex_flow": null,
            "grid_area": null,
            "grid_auto_columns": null,
            "grid_auto_flow": null,
            "grid_auto_rows": null,
            "grid_column": null,
            "grid_gap": null,
            "grid_row": null,
            "grid_template_areas": null,
            "grid_template_columns": null,
            "grid_template_rows": null,
            "height": null,
            "justify_content": null,
            "justify_items": null,
            "left": null,
            "margin": null,
            "max_height": null,
            "max_width": null,
            "min_height": null,
            "min_width": null,
            "object_fit": null,
            "object_position": null,
            "order": null,
            "overflow": null,
            "overflow_x": null,
            "overflow_y": null,
            "padding": null,
            "right": null,
            "top": null,
            "visibility": null,
            "width": null
          }
        },
        "831ea8b7b71143b4a482e9810c57bb15": {
          "model_module": "@jupyter-widgets/controls",
          "model_name": "ProgressStyleModel",
          "model_module_version": "1.5.0",
          "state": {
            "_model_module": "@jupyter-widgets/controls",
            "_model_module_version": "1.5.0",
            "_model_name": "ProgressStyleModel",
            "_view_count": null,
            "_view_module": "@jupyter-widgets/base",
            "_view_module_version": "1.2.0",
            "_view_name": "StyleView",
            "bar_color": null,
            "description_width": ""
          }
        },
        "d23492ac377d42fc8cb4bacfe79ea4e5": {
          "model_module": "@jupyter-widgets/base",
          "model_name": "LayoutModel",
          "model_module_version": "1.2.0",
          "state": {
            "_model_module": "@jupyter-widgets/base",
            "_model_module_version": "1.2.0",
            "_model_name": "LayoutModel",
            "_view_count": null,
            "_view_module": "@jupyter-widgets/base",
            "_view_module_version": "1.2.0",
            "_view_name": "LayoutView",
            "align_content": null,
            "align_items": null,
            "align_self": null,
            "border": null,
            "bottom": null,
            "display": null,
            "flex": null,
            "flex_flow": null,
            "grid_area": null,
            "grid_auto_columns": null,
            "grid_auto_flow": null,
            "grid_auto_rows": null,
            "grid_column": null,
            "grid_gap": null,
            "grid_row": null,
            "grid_template_areas": null,
            "grid_template_columns": null,
            "grid_template_rows": null,
            "height": null,
            "justify_content": null,
            "justify_items": null,
            "left": null,
            "margin": null,
            "max_height": null,
            "max_width": null,
            "min_height": null,
            "min_width": null,
            "object_fit": null,
            "object_position": null,
            "order": null,
            "overflow": null,
            "overflow_x": null,
            "overflow_y": null,
            "padding": null,
            "right": null,
            "top": null,
            "visibility": null,
            "width": null
          }
        },
        "ddcfda4c53a847d2baa8eab9923d7fd4": {
          "model_module": "@jupyter-widgets/controls",
          "model_name": "DescriptionStyleModel",
          "model_module_version": "1.5.0",
          "state": {
            "_model_module": "@jupyter-widgets/controls",
            "_model_module_version": "1.5.0",
            "_model_name": "DescriptionStyleModel",
            "_view_count": null,
            "_view_module": "@jupyter-widgets/base",
            "_view_module_version": "1.2.0",
            "_view_name": "StyleView",
            "description_width": ""
          }
        }
      }
    }
  },
  "nbformat": 4,
  "nbformat_minor": 0
}